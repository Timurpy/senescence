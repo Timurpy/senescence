{
 "cells": [
  {
   "cell_type": "code",
   "execution_count": 1,
   "metadata": {
    "ExecuteTime": {
     "end_time": "2017-09-25T00:04:58.844829Z",
     "start_time": "2017-09-25T00:04:56.616817Z"
    }
   },
   "outputs": [],
   "source": [
    "%matplotlib inline\n",
    "%load_ext autoreload\n",
    "%autoreload 2\n",
    "\n",
    "import pylab as plt\n",
    "import seaborn as sns\n",
    "import pandas as pd\n",
    "import numpy as np\n",
    "import scipy.stats\n",
    "import datetime as dt\n",
    "import os\n",
    "import random\n",
    "from IPython.display import display\n",
    "\n",
    "sns.set_palette(sns.color_palette('deep'))\n",
    "sns.set_style('whitegrid')\n",
    "\n",
    "plt.rcParams['axes.titlesize'] = 16\n",
    "plt.rcParams['axes.labelsize'] = 14\n",
    "plt.rcParams['xtick.labelsize'] = 12\n",
    "plt.rcParams['ytick.labelsize'] = 12\n",
    "plt.rcParams['legend.fontsize'] = 14\n",
    "\n",
    "pd.set_option('display.max_colwidth', 80)"
   ]
  },
  {
   "cell_type": "markdown",
   "metadata": {},
   "source": [
    "# Read data"
   ]
  },
  {
   "cell_type": "markdown",
   "metadata": {},
   "source": [
    "## CellAge"
   ]
  },
  {
   "cell_type": "code",
   "execution_count": 2,
   "metadata": {
    "ExecuteTime": {
     "end_time": "2017-09-25T00:04:58.891146Z",
     "start_time": "2017-09-25T00:04:58.848151Z"
    }
   },
   "outputs": [],
   "source": [
    "cellage_df = pd.read_csv('data/cellage_export.tsv', sep='\\t')"
   ]
  },
  {
   "cell_type": "code",
   "execution_count": 3,
   "metadata": {
    "ExecuteTime": {
     "end_time": "2017-09-25T00:04:58.942562Z",
     "start_time": "2017-09-25T00:04:58.893830Z"
    }
   },
   "outputs": [
    {
     "data": {
      "text/html": [
       "<div>\n",
       "<style>\n",
       "    .dataframe thead tr:only-child th {\n",
       "        text-align: right;\n",
       "    }\n",
       "\n",
       "    .dataframe thead th {\n",
       "        text-align: left;\n",
       "    }\n",
       "\n",
       "    .dataframe tbody tr th {\n",
       "        vertical-align: top;\n",
       "    }\n",
       "</style>\n",
       "<table border=\"1\" class=\"dataframe\">\n",
       "  <thead>\n",
       "    <tr style=\"text-align: right;\">\n",
       "      <th></th>\n",
       "      <th>gene_symbol</th>\n",
       "      <th>entrez_id</th>\n",
       "      <th>method</th>\n",
       "      <th>cell_type</th>\n",
       "      <th>cell_line</th>\n",
       "      <th>cancer_cell</th>\n",
       "      <th>senescence_type</th>\n",
       "      <th>senescence_effect</th>\n",
       "      <th>description</th>\n",
       "      <th>organism</th>\n",
       "    </tr>\n",
       "  </thead>\n",
       "  <tbody>\n",
       "    <tr>\n",
       "      <th>0</th>\n",
       "      <td>AAK1</td>\n",
       "      <td>22848</td>\n",
       "      <td>Overexpression</td>\n",
       "      <td>Lung fibroblast, Embryonic kidney</td>\n",
       "      <td>IMR-90, MRC-5, HEK293T</td>\n",
       "      <td>No</td>\n",
       "      <td>Replicative</td>\n",
       "      <td>Promotes</td>\n",
       "      <td>A library of 200 constitutively activated kinases was screened in order to i...</td>\n",
       "      <td>A library of 200 constitutively activated kinases was screened in order to i...</td>\n",
       "    </tr>\n",
       "    <tr>\n",
       "      <th>1</th>\n",
       "      <td>ABI3</td>\n",
       "      <td>51225</td>\n",
       "      <td>Overexpression</td>\n",
       "      <td>Thyroid cancer, Colon cancer</td>\n",
       "      <td>WRO, ARO</td>\n",
       "      <td>Yes</td>\n",
       "      <td>Replicative</td>\n",
       "      <td>Promotes</td>\n",
       "      <td>Ectopic expression of ABI3 lowered transforming activity, reduced in vitro t...</td>\n",
       "      <td>Ectopic expression of ABI3 lowered transforming activity, reduced in vitro t...</td>\n",
       "    </tr>\n",
       "    <tr>\n",
       "      <th>2</th>\n",
       "      <td>ACLY</td>\n",
       "      <td>47</td>\n",
       "      <td>Knockout</td>\n",
       "      <td>Dermal fibroblast</td>\n",
       "      <td>Primary cell</td>\n",
       "      <td>No</td>\n",
       "      <td>Replicative</td>\n",
       "      <td>Inhibits</td>\n",
       "      <td>ACLY knockdown in primary human cells triggered cellular senescence and acti...</td>\n",
       "      <td>ACLY knockdown in primary human cells triggered cellular senescence and acti...</td>\n",
       "    </tr>\n",
       "    <tr>\n",
       "      <th>3</th>\n",
       "      <td>ADCK5</td>\n",
       "      <td>203054</td>\n",
       "      <td>Overexpression</td>\n",
       "      <td>Embryonic kidney, Lung fibroblast</td>\n",
       "      <td>IMR-90, MRC-5, HEK293T</td>\n",
       "      <td>No</td>\n",
       "      <td>Replicative</td>\n",
       "      <td>Promotes</td>\n",
       "      <td>A library of 200 constitutively activated kinases was screened in order to i...</td>\n",
       "      <td>A library of 200 constitutively activated kinases was screened in order to i...</td>\n",
       "    </tr>\n",
       "    <tr>\n",
       "      <th>4</th>\n",
       "      <td>AGT</td>\n",
       "      <td>183</td>\n",
       "      <td>Overexpression, Knockout</td>\n",
       "      <td>Vascular smooth muscle</td>\n",
       "      <td>Primary cell</td>\n",
       "      <td>No</td>\n",
       "      <td>Replicative</td>\n",
       "      <td>Promotes</td>\n",
       "      <td>Treatment with Ang II (AGT) of vascular smooth muscle cells significantly in...</td>\n",
       "      <td>Treatment with Ang II (AGT) of vascular smooth muscle cells significantly in...</td>\n",
       "    </tr>\n",
       "  </tbody>\n",
       "</table>\n",
       "</div>"
      ],
      "text/plain": [
       "  gene_symbol  entrez_id                    method  \\\n",
       "0        AAK1      22848            Overexpression   \n",
       "1        ABI3      51225            Overexpression   \n",
       "2        ACLY         47                  Knockout   \n",
       "3       ADCK5     203054            Overexpression   \n",
       "4         AGT        183  Overexpression, Knockout   \n",
       "\n",
       "                           cell_type               cell_line cancer_cell  \\\n",
       "0  Lung fibroblast, Embryonic kidney  IMR-90, MRC-5, HEK293T          No   \n",
       "1       Thyroid cancer, Colon cancer                WRO, ARO         Yes   \n",
       "2                  Dermal fibroblast            Primary cell          No   \n",
       "3  Embryonic kidney, Lung fibroblast  IMR-90, MRC-5, HEK293T          No   \n",
       "4             Vascular smooth muscle            Primary cell          No   \n",
       "\n",
       "  senescence_type senescence_effect  \\\n",
       "0     Replicative          Promotes   \n",
       "1     Replicative          Promotes   \n",
       "2     Replicative          Inhibits   \n",
       "3     Replicative          Promotes   \n",
       "4     Replicative          Promotes   \n",
       "\n",
       "                                                                       description  \\\n",
       "0  A library of 200 constitutively activated kinases was screened in order to i...   \n",
       "1  Ectopic expression of ABI3 lowered transforming activity, reduced in vitro t...   \n",
       "2  ACLY knockdown in primary human cells triggered cellular senescence and acti...   \n",
       "3  A library of 200 constitutively activated kinases was screened in order to i...   \n",
       "4  Treatment with Ang II (AGT) of vascular smooth muscle cells significantly in...   \n",
       "\n",
       "                                                                          organism  \n",
       "0  A library of 200 constitutively activated kinases was screened in order to i...  \n",
       "1  Ectopic expression of ABI3 lowered transforming activity, reduced in vitro t...  \n",
       "2  ACLY knockdown in primary human cells triggered cellular senescence and acti...  \n",
       "3  A library of 200 constitutively activated kinases was screened in order to i...  \n",
       "4  Treatment with Ang II (AGT) of vascular smooth muscle cells significantly in...  "
      ]
     },
     "execution_count": 3,
     "metadata": {},
     "output_type": "execute_result"
    }
   ],
   "source": [
    "cellage_df.head()"
   ]
  },
  {
   "cell_type": "markdown",
   "metadata": {},
   "source": [
    "## Basic gene info"
   ]
  },
  {
   "cell_type": "code",
   "execution_count": 112,
   "metadata": {
    "ExecuteTime": {
     "end_time": "2017-09-28T14:54:36.156939Z",
     "start_time": "2017-09-28T14:54:35.921353Z"
    }
   },
   "outputs": [],
   "source": [
    "genes_df = pd.read_csv('data/gene_info.txt', sep='\\t', dtype={'entrez_id': 'int'})"
   ]
  },
  {
   "cell_type": "code",
   "execution_count": 113,
   "metadata": {
    "ExecuteTime": {
     "end_time": "2017-09-28T14:54:36.743647Z",
     "start_time": "2017-09-28T14:54:36.721626Z"
    }
   },
   "outputs": [],
   "source": [
    "genes_df.columns = ['hgnc_id', 'symbol', 'name', 'status', 'prev_symbols', 'synonyms', 'chromosome', 'accession_numbers', 'refseq_ids', 'entrez_id']"
   ]
  },
  {
   "cell_type": "code",
   "execution_count": 117,
   "metadata": {
    "ExecuteTime": {
     "end_time": "2017-09-28T14:56:25.844275Z",
     "start_time": "2017-09-28T14:56:25.752843Z"
    }
   },
   "outputs": [],
   "source": [
    "genes_df = genes_df.query('entrez_id == entrez_id')"
   ]
  },
  {
   "cell_type": "code",
   "execution_count": 119,
   "metadata": {
    "ExecuteTime": {
     "end_time": "2017-09-28T14:57:04.813730Z",
     "start_time": "2017-09-28T14:57:03.937156Z"
    }
   },
   "outputs": [],
   "source": [
    "genes_df['entrez_id'] = genes_df.entrez_id.astype('int')"
   ]
  },
  {
   "cell_type": "code",
   "execution_count": 120,
   "metadata": {
    "ExecuteTime": {
     "end_time": "2017-09-28T14:57:05.496022Z",
     "start_time": "2017-09-28T14:57:05.453071Z"
    }
   },
   "outputs": [
    {
     "data": {
      "text/html": [
       "<div>\n",
       "<style>\n",
       "    .dataframe thead tr:only-child th {\n",
       "        text-align: right;\n",
       "    }\n",
       "\n",
       "    .dataframe thead th {\n",
       "        text-align: left;\n",
       "    }\n",
       "\n",
       "    .dataframe tbody tr th {\n",
       "        vertical-align: top;\n",
       "    }\n",
       "</style>\n",
       "<table border=\"1\" class=\"dataframe\">\n",
       "  <thead>\n",
       "    <tr style=\"text-align: right;\">\n",
       "      <th></th>\n",
       "      <th>hgnc_id</th>\n",
       "      <th>symbol</th>\n",
       "      <th>name</th>\n",
       "      <th>status</th>\n",
       "      <th>prev_symbols</th>\n",
       "      <th>synonyms</th>\n",
       "      <th>chromosome</th>\n",
       "      <th>accession_numbers</th>\n",
       "      <th>refseq_ids</th>\n",
       "      <th>entrez_id</th>\n",
       "    </tr>\n",
       "  </thead>\n",
       "  <tbody>\n",
       "    <tr>\n",
       "      <th>0</th>\n",
       "      <td>HGNC:5</td>\n",
       "      <td>A1BG</td>\n",
       "      <td>alpha-1-B glycoprotein</td>\n",
       "      <td>Approved</td>\n",
       "      <td>NaN</td>\n",
       "      <td>NaN</td>\n",
       "      <td>19q13.43</td>\n",
       "      <td>NaN</td>\n",
       "      <td>NM_130786</td>\n",
       "      <td>1</td>\n",
       "    </tr>\n",
       "    <tr>\n",
       "      <th>1</th>\n",
       "      <td>HGNC:37133</td>\n",
       "      <td>A1BG-AS1</td>\n",
       "      <td>A1BG antisense RNA 1</td>\n",
       "      <td>Approved</td>\n",
       "      <td>NCRNA00181, A1BGAS, A1BG-AS</td>\n",
       "      <td>FLJ23569</td>\n",
       "      <td>19q13.43</td>\n",
       "      <td>BC040926</td>\n",
       "      <td>NR_015380</td>\n",
       "      <td>503538</td>\n",
       "    </tr>\n",
       "    <tr>\n",
       "      <th>2</th>\n",
       "      <td>HGNC:24086</td>\n",
       "      <td>A1CF</td>\n",
       "      <td>APOBEC1 complementation factor</td>\n",
       "      <td>Approved</td>\n",
       "      <td>NaN</td>\n",
       "      <td>ACF, ASP, ACF64, ACF65, APOBEC1CF</td>\n",
       "      <td>10q11.23</td>\n",
       "      <td>AF271790</td>\n",
       "      <td>NM_014576</td>\n",
       "      <td>29974</td>\n",
       "    </tr>\n",
       "    <tr>\n",
       "      <th>3</th>\n",
       "      <td>HGNC:7</td>\n",
       "      <td>A2M</td>\n",
       "      <td>alpha-2-macroglobulin</td>\n",
       "      <td>Approved</td>\n",
       "      <td>NaN</td>\n",
       "      <td>FWP007, S863-7, CPAMD5</td>\n",
       "      <td>12p13.31</td>\n",
       "      <td>BX647329, X68728, M11313</td>\n",
       "      <td>NM_000014</td>\n",
       "      <td>2</td>\n",
       "    </tr>\n",
       "    <tr>\n",
       "      <th>4</th>\n",
       "      <td>HGNC:27057</td>\n",
       "      <td>A2M-AS1</td>\n",
       "      <td>A2M antisense RNA 1 (head to head)</td>\n",
       "      <td>Approved</td>\n",
       "      <td>NaN</td>\n",
       "      <td>NaN</td>\n",
       "      <td>12p13.31</td>\n",
       "      <td>NaN</td>\n",
       "      <td>NR_026971</td>\n",
       "      <td>144571</td>\n",
       "    </tr>\n",
       "  </tbody>\n",
       "</table>\n",
       "</div>"
      ],
      "text/plain": [
       "      hgnc_id    symbol                                name    status  \\\n",
       "0      HGNC:5      A1BG              alpha-1-B glycoprotein  Approved   \n",
       "1  HGNC:37133  A1BG-AS1                A1BG antisense RNA 1  Approved   \n",
       "2  HGNC:24086      A1CF      APOBEC1 complementation factor  Approved   \n",
       "3      HGNC:7       A2M               alpha-2-macroglobulin  Approved   \n",
       "4  HGNC:27057   A2M-AS1  A2M antisense RNA 1 (head to head)  Approved   \n",
       "\n",
       "                  prev_symbols                           synonyms chromosome  \\\n",
       "0                          NaN                                NaN   19q13.43   \n",
       "1  NCRNA00181, A1BGAS, A1BG-AS                           FLJ23569   19q13.43   \n",
       "2                          NaN  ACF, ASP, ACF64, ACF65, APOBEC1CF   10q11.23   \n",
       "3                          NaN             FWP007, S863-7, CPAMD5   12p13.31   \n",
       "4                          NaN                                NaN   12p13.31   \n",
       "\n",
       "          accession_numbers refseq_ids  entrez_id  \n",
       "0                       NaN  NM_130786          1  \n",
       "1                  BC040926  NR_015380     503538  \n",
       "2                  AF271790  NM_014576      29974  \n",
       "3  BX647329, X68728, M11313  NM_000014          2  \n",
       "4                       NaN  NR_026971     144571  "
      ]
     },
     "execution_count": 120,
     "metadata": {},
     "output_type": "execute_result"
    }
   ],
   "source": [
    "genes_df.head()"
   ]
  },
  {
   "cell_type": "code",
   "execution_count": 125,
   "metadata": {
    "ExecuteTime": {
     "end_time": "2017-09-28T14:57:51.756731Z",
     "start_time": "2017-09-28T14:57:51.731027Z"
    }
   },
   "outputs": [],
   "source": [
    "def entrez_ids_to_symbols(ids):\n",
    "    df = genes_df.set_index('entrez_id')\n",
    "    return df.loc[ids].symbol.values"
   ]
  },
  {
   "cell_type": "code",
   "execution_count": 126,
   "metadata": {
    "ExecuteTime": {
     "end_time": "2017-09-28T14:57:56.061457Z",
     "start_time": "2017-09-28T14:57:56.026414Z"
    }
   },
   "outputs": [
    {
     "data": {
      "text/plain": [
       "array(['A1BG', 'A2M'], dtype=object)"
      ]
     },
     "execution_count": 126,
     "metadata": {},
     "output_type": "execute_result"
    }
   ],
   "source": [
    "entrez_ids_to_symbols([1, 2])"
   ]
  },
  {
   "cell_type": "code",
   "execution_count": null,
   "metadata": {},
   "outputs": [],
   "source": []
  },
  {
   "cell_type": "markdown",
   "metadata": {},
   "source": [
    "# Summarize"
   ]
  },
  {
   "cell_type": "code",
   "execution_count": 4,
   "metadata": {
    "ExecuteTime": {
     "end_time": "2017-09-25T00:04:58.974408Z",
     "start_time": "2017-09-25T00:04:58.946589Z"
    }
   },
   "outputs": [
    {
     "data": {
      "text/plain": [
       "Replicative                      217\n",
       "Stress-induced                    24\n",
       "Oncogene-induced                  23\n",
       "Stress-induced, Replicative        6\n",
       "Replicative, Stress-induced        4\n",
       "Replicative, Oncogene-induced      3\n",
       "Oncogene-induced, Replicative      2\n",
       "Name: senescence_type, dtype: int64"
      ]
     },
     "execution_count": 4,
     "metadata": {},
     "output_type": "execute_result"
    }
   ],
   "source": [
    "cellage_df.senescence_type.value_counts()"
   ]
  },
  {
   "cell_type": "code",
   "execution_count": 5,
   "metadata": {
    "ExecuteTime": {
     "end_time": "2017-09-25T00:04:59.002450Z",
     "start_time": "2017-09-25T00:04:58.977619Z"
    }
   },
   "outputs": [
    {
     "data": {
      "text/plain": [
       "Promotes    153\n",
       "Inhibits    121\n",
       "Unclear       5\n",
       "Name: senescence_effect, dtype: int64"
      ]
     },
     "execution_count": 5,
     "metadata": {},
     "output_type": "execute_result"
    }
   ],
   "source": [
    "cellage_df.senescence_effect.value_counts()"
   ]
  },
  {
   "cell_type": "markdown",
   "metadata": {},
   "source": [
    "# Read Gene Ontology Data"
   ]
  },
  {
   "cell_type": "code",
   "execution_count": 6,
   "metadata": {
    "ExecuteTime": {
     "end_time": "2017-09-25T00:04:59.089284Z",
     "start_time": "2017-09-25T00:04:59.067113Z"
    }
   },
   "outputs": [],
   "source": [
    "# Get http://geneontology.org/ontology/go-basic.obo\n",
    "#from goatools.base import download_go_basic_obo\n",
    "#obo_fname = download_go_basic_obo()"
   ]
  },
  {
   "cell_type": "code",
   "execution_count": 7,
   "metadata": {
    "ExecuteTime": {
     "end_time": "2017-09-25T00:04:59.257482Z",
     "start_time": "2017-09-25T00:04:59.236561Z"
    }
   },
   "outputs": [],
   "source": [
    "# Get ftp://ftp.ncbi.nlm.nih.gov/gene/DATA/gene2go.gz\n",
    "#from goatools.base import download_ncbi_associations\n",
    "#gene2go = download_ncbi_associations()"
   ]
  },
  {
   "cell_type": "code",
   "execution_count": 8,
   "metadata": {
    "ExecuteTime": {
     "end_time": "2017-09-25T00:05:02.849783Z",
     "start_time": "2017-09-25T00:04:59.422347Z"
    }
   },
   "outputs": [
    {
     "name": "stdout",
     "output_type": "stream",
     "text": [
      "load obo file data/go-basic.obo\n",
      "data/go-basic.obo: fmt(1.2) rel(2017-09-20) 46,992 GO Terms\n"
     ]
    }
   ],
   "source": [
    "from goatools.obo_parser import GODag\n",
    "\n",
    "obodag = GODag(\"data/go-basic.obo\")"
   ]
  },
  {
   "cell_type": "code",
   "execution_count": 9,
   "metadata": {
    "ExecuteTime": {
     "end_time": "2017-09-25T00:05:02.887354Z",
     "start_time": "2017-09-25T00:05:02.853082Z"
    }
   },
   "outputs": [],
   "source": [
    "from goatools.associations import read_ncbi_gene2go"
   ]
  },
  {
   "cell_type": "code",
   "execution_count": 10,
   "metadata": {
    "ExecuteTime": {
     "end_time": "2017-09-25T00:05:02.916500Z",
     "start_time": "2017-09-25T00:05:02.890330Z"
    }
   },
   "outputs": [],
   "source": [
    "#taxonomy ID 9606 is Human"
   ]
  },
  {
   "cell_type": "code",
   "execution_count": 11,
   "metadata": {
    "ExecuteTime": {
     "end_time": "2017-09-25T00:05:07.436038Z",
     "start_time": "2017-09-25T00:05:02.919519Z"
    }
   },
   "outputs": [
    {
     "name": "stdout",
     "output_type": "stream",
     "text": [
      "  READ: data/gene2go\n",
      "19,238 annotated human genes\n"
     ]
    }
   ],
   "source": [
    "geneid2gos_human = read_ncbi_gene2go(\"data/gene2go\", taxids=[9606])\n",
    "\n",
    "print(\"{N:,} annotated human genes\".format(N=len(geneid2gos_human)))"
   ]
  },
  {
   "cell_type": "code",
   "execution_count": 103,
   "metadata": {
    "ExecuteTime": {
     "end_time": "2017-09-28T14:33:58.888581Z",
     "start_time": "2017-09-28T14:33:58.864669Z"
    }
   },
   "outputs": [
    {
     "data": {
      "text/plain": [
       "'GO:0000001'"
      ]
     },
     "execution_count": 103,
     "metadata": {},
     "output_type": "execute_result"
    }
   ],
   "source": [
    "next(iter(obodag))"
   ]
  },
  {
   "cell_type": "code",
   "execution_count": 12,
   "metadata": {
    "ExecuteTime": {
     "end_time": "2017-09-25T00:05:07.519241Z",
     "start_time": "2017-09-25T00:05:07.439507Z"
    }
   },
   "outputs": [],
   "source": [
    "GO_name_map = {go.id:go.name for go in obodag.values()}\n",
    "GO_ns_map = {go.id:go.namespace for go in obodag.values()}"
   ]
  },
  {
   "cell_type": "markdown",
   "metadata": {},
   "source": [
    "## Run Enrichment Study"
   ]
  },
  {
   "cell_type": "code",
   "execution_count": 13,
   "metadata": {
    "ExecuteTime": {
     "end_time": "2017-09-25T00:05:07.689344Z",
     "start_time": "2017-09-25T00:05:07.523153Z"
    }
   },
   "outputs": [],
   "source": [
    "from goatools.test_data.genes_NCBI_9606_ProteinCoding import GeneID2nt as GeneID2nt_hum"
   ]
  },
  {
   "cell_type": "code",
   "execution_count": 14,
   "metadata": {
    "ExecuteTime": {
     "end_time": "2017-09-25T00:05:08.080858Z",
     "start_time": "2017-09-25T00:05:07.692168Z"
    }
   },
   "outputs": [
    {
     "name": "stdout",
     "output_type": "stream",
     "text": [
      "fisher module not installed.  Falling back on scipy.stats.fisher_exact\n",
      "18,400 out of 20,913 population items found in association\n"
     ]
    }
   ],
   "source": [
    "from goatools.go_enrichment import GOEnrichmentStudy\n",
    "\n",
    "goeaobj = GOEnrichmentStudy(\n",
    "        GeneID2nt_hum.keys(), # List of human protein-coding genes\n",
    "        geneid2gos_human, # geneid/GO associations\n",
    "        obodag, # Ontologies\n",
    "        propagate_counts = False,\n",
    "        alpha = 0.05, # default significance cut-off\n",
    "        methods = ['fdr_bh']) # defult multipletest correction method"
   ]
  },
  {
   "cell_type": "code",
   "execution_count": 15,
   "metadata": {
    "ExecuteTime": {
     "end_time": "2017-09-25T00:05:08.105816Z",
     "start_time": "2017-09-25T00:05:08.083783Z"
    }
   },
   "outputs": [
    {
     "data": {
      "text/plain": [
       "[1, 2, 131076, 9, 10, 12, 13, 14, 15, 16]"
      ]
     },
     "execution_count": 15,
     "metadata": {},
     "output_type": "execute_result"
    }
   ],
   "source": [
    "list(GeneID2nt_hum.keys())[:10]"
   ]
  },
  {
   "cell_type": "code",
   "execution_count": 16,
   "metadata": {
    "ExecuteTime": {
     "end_time": "2017-09-25T00:05:27.902253Z",
     "start_time": "2017-09-25T00:05:08.109087Z"
    }
   },
   "outputs": [
    {
     "name": "stdout",
     "output_type": "stream",
     "text": [
      "Calculating uncorrected p-values using fisher_scipy_stats\n",
      "   277 out of    279 study items found in association\n",
      "Running multitest correction: statsmodels fdr_bh\n",
      "  3,383 GO terms are associated with 277 of 279 study items\n",
      "  17,434 GO terms are associated with 18,400 of 20,913 population items\n"
     ]
    }
   ],
   "source": [
    "goea_results_all = goeaobj.run_study(cellage_df.entrez_id.values)"
   ]
  },
  {
   "cell_type": "code",
   "execution_count": 17,
   "metadata": {
    "ExecuteTime": {
     "end_time": "2017-09-25T00:05:27.966834Z",
     "start_time": "2017-09-25T00:05:27.909958Z"
    }
   },
   "outputs": [],
   "source": [
    "goea_results_sig = [r for r in goea_results_all if r.p_fdr_bh < 0.05]"
   ]
  },
  {
   "cell_type": "code",
   "execution_count": 18,
   "metadata": {
    "ExecuteTime": {
     "end_time": "2017-09-25T00:05:28.016654Z",
     "start_time": "2017-09-25T00:05:27.972144Z"
    }
   },
   "outputs": [
    {
     "data": {
      "text/plain": [
       "336"
      ]
     },
     "execution_count": 18,
     "metadata": {},
     "output_type": "execute_result"
    }
   ],
   "source": [
    "len(goea_results_sig)"
   ]
  },
  {
   "cell_type": "markdown",
   "metadata": {},
   "source": [
    "## Write out results"
   ]
  },
  {
   "cell_type": "code",
   "execution_count": 19,
   "metadata": {
    "ExecuteTime": {
     "end_time": "2017-09-25T00:05:28.257240Z",
     "start_time": "2017-09-25T00:05:28.023570Z"
    }
   },
   "outputs": [
    {
     "name": "stdout",
     "output_type": "stream",
     "text": [
      "    336 items WROTE: data/cellage_goea.xlsx\n"
     ]
    }
   ],
   "source": [
    "goeaobj.wr_xlsx(\"data/cellage_goea.xlsx\", goea_results_sig)"
   ]
  },
  {
   "cell_type": "code",
   "execution_count": 20,
   "metadata": {
    "ExecuteTime": {
     "end_time": "2017-09-25T00:06:04.550290Z",
     "start_time": "2017-09-25T00:05:28.260998Z"
    }
   },
   "outputs": [
    {
     "name": "stdout",
     "output_type": "stream",
     "text": [
      "  247 usr 977 GOs  WROTE: cellage_BP.png\n",
      "   26 usr  75 GOs  WROTE: cellage_CC.png\n",
      "   63 usr 147 GOs  WROTE: cellage_MF.png\n"
     ]
    }
   ],
   "source": [
    "from goatools.godag_plot import plot_gos, plot_results, plot_goid2goobj\n",
    "\n",
    "plot_results(\"cellage_{NS}.png\", goea_results_sig)"
   ]
  },
  {
   "cell_type": "markdown",
   "metadata": {},
   "source": [
    "## Show enrichment results"
   ]
  },
  {
   "cell_type": "code",
   "execution_count": 21,
   "metadata": {
    "ExecuteTime": {
     "end_time": "2017-09-25T00:06:04.641533Z",
     "start_time": "2017-09-25T00:06:04.557694Z"
    }
   },
   "outputs": [],
   "source": [
    "results_df = pd.DataFrame.from_records(\n",
    "    [(r.GO, r.get_pvalue(),\n",
    "     1.0 * (r.ratio_in_study[0] / r.ratio_in_study[1]) / (r.ratio_in_pop[0] / r.ratio_in_pop[1]),\n",
    "     r.ratio_in_study[0],\n",
    "     r.NS, r.name)\n",
    "     for r in goea_results_sig\n",
    "    ],\n",
    "    columns=['id', 'pvalue', 'enrichment', 'cellage_count', 'ns', 'name']\n",
    ")"
   ]
  },
  {
   "cell_type": "code",
   "execution_count": 22,
   "metadata": {
    "ExecuteTime": {
     "end_time": "2017-09-25T00:06:04.774565Z",
     "start_time": "2017-09-25T00:06:04.646219Z"
    },
    "scrolled": false
   },
   "outputs": [
    {
     "data": {
      "text/html": [
       "<div>\n",
       "<style>\n",
       "    .dataframe thead tr:only-child th {\n",
       "        text-align: right;\n",
       "    }\n",
       "\n",
       "    .dataframe thead th {\n",
       "        text-align: left;\n",
       "    }\n",
       "\n",
       "    .dataframe tbody tr th {\n",
       "        vertical-align: top;\n",
       "    }\n",
       "</style>\n",
       "<table border=\"1\" class=\"dataframe\">\n",
       "  <thead>\n",
       "    <tr style=\"text-align: right;\">\n",
       "      <th></th>\n",
       "      <th>id</th>\n",
       "      <th>pvalue</th>\n",
       "      <th>enrichment</th>\n",
       "      <th>cellage_count</th>\n",
       "      <th>ns</th>\n",
       "      <th>name</th>\n",
       "    </tr>\n",
       "  </thead>\n",
       "  <tbody>\n",
       "    <tr>\n",
       "      <th>248</th>\n",
       "      <td>GO:0005654</td>\n",
       "      <td>1.560954e-35</td>\n",
       "      <td>3.270941</td>\n",
       "      <td>131</td>\n",
       "      <td>CC</td>\n",
       "      <td>nucleoplasm</td>\n",
       "    </tr>\n",
       "    <tr>\n",
       "      <th>274</th>\n",
       "      <td>GO:0004674</td>\n",
       "      <td>4.128163e-25</td>\n",
       "      <td>9.156678</td>\n",
       "      <td>43</td>\n",
       "      <td>MF</td>\n",
       "      <td>protein serine/threonine kinase activity</td>\n",
       "    </tr>\n",
       "    <tr>\n",
       "      <th>0</th>\n",
       "      <td>GO:0000122</td>\n",
       "      <td>4.568953e-24</td>\n",
       "      <td>5.697910</td>\n",
       "      <td>58</td>\n",
       "      <td>BP</td>\n",
       "      <td>negative regulation of transcription from RNA polymerase II promoter</td>\n",
       "    </tr>\n",
       "    <tr>\n",
       "      <th>1</th>\n",
       "      <td>GO:0045944</td>\n",
       "      <td>1.295481e-23</td>\n",
       "      <td>4.779866</td>\n",
       "      <td>66</td>\n",
       "      <td>BP</td>\n",
       "      <td>positive regulation of transcription from RNA polymerase II promoter</td>\n",
       "    </tr>\n",
       "    <tr>\n",
       "      <th>2</th>\n",
       "      <td>GO:0006468</td>\n",
       "      <td>1.485259e-21</td>\n",
       "      <td>7.375631</td>\n",
       "      <td>43</td>\n",
       "      <td>BP</td>\n",
       "      <td>protein phosphorylation</td>\n",
       "    </tr>\n",
       "    <tr>\n",
       "      <th>275</th>\n",
       "      <td>GO:0005524</td>\n",
       "      <td>4.814790e-21</td>\n",
       "      <td>3.807012</td>\n",
       "      <td>74</td>\n",
       "      <td>MF</td>\n",
       "      <td>ATP binding</td>\n",
       "    </tr>\n",
       "    <tr>\n",
       "      <th>3</th>\n",
       "      <td>GO:0008285</td>\n",
       "      <td>1.471026e-19</td>\n",
       "      <td>7.457456</td>\n",
       "      <td>39</td>\n",
       "      <td>BP</td>\n",
       "      <td>negative regulation of cell proliferation</td>\n",
       "    </tr>\n",
       "    <tr>\n",
       "      <th>4</th>\n",
       "      <td>GO:0045893</td>\n",
       "      <td>8.638668e-18</td>\n",
       "      <td>6.031022</td>\n",
       "      <td>42</td>\n",
       "      <td>BP</td>\n",
       "      <td>positive regulation of transcription, DNA-templated</td>\n",
       "    </tr>\n",
       "    <tr>\n",
       "      <th>5</th>\n",
       "      <td>GO:0045892</td>\n",
       "      <td>1.730570e-16</td>\n",
       "      <td>6.077594</td>\n",
       "      <td>39</td>\n",
       "      <td>BP</td>\n",
       "      <td>negative regulation of transcription, DNA-templated</td>\n",
       "    </tr>\n",
       "    <tr>\n",
       "      <th>276</th>\n",
       "      <td>GO:0003682</td>\n",
       "      <td>5.293327e-13</td>\n",
       "      <td>6.246416</td>\n",
       "      <td>31</td>\n",
       "      <td>MF</td>\n",
       "      <td>chromatin binding</td>\n",
       "    </tr>\n",
       "    <tr>\n",
       "      <th>6</th>\n",
       "      <td>GO:0007050</td>\n",
       "      <td>2.779976e-12</td>\n",
       "      <td>10.863332</td>\n",
       "      <td>20</td>\n",
       "      <td>BP</td>\n",
       "      <td>cell cycle arrest</td>\n",
       "    </tr>\n",
       "    <tr>\n",
       "      <th>7</th>\n",
       "      <td>GO:0018105</td>\n",
       "      <td>7.947940e-12</td>\n",
       "      <td>10.268081</td>\n",
       "      <td>20</td>\n",
       "      <td>BP</td>\n",
       "      <td>peptidyl-serine phosphorylation</td>\n",
       "    </tr>\n",
       "    <tr>\n",
       "      <th>277</th>\n",
       "      <td>GO:0019901</td>\n",
       "      <td>1.836943e-11</td>\n",
       "      <td>5.664256</td>\n",
       "      <td>30</td>\n",
       "      <td>MF</td>\n",
       "      <td>protein kinase binding</td>\n",
       "    </tr>\n",
       "    <tr>\n",
       "      <th>278</th>\n",
       "      <td>GO:0004672</td>\n",
       "      <td>9.289624e-11</td>\n",
       "      <td>8.372855</td>\n",
       "      <td>21</td>\n",
       "      <td>MF</td>\n",
       "      <td>protein kinase activity</td>\n",
       "    </tr>\n",
       "    <tr>\n",
       "      <th>8</th>\n",
       "      <td>GO:0006366</td>\n",
       "      <td>1.041977e-10</td>\n",
       "      <td>4.484606</td>\n",
       "      <td>35</td>\n",
       "      <td>BP</td>\n",
       "      <td>transcription from RNA polymerase II promoter</td>\n",
       "    </tr>\n",
       "    <tr>\n",
       "      <th>9</th>\n",
       "      <td>GO:0090398</td>\n",
       "      <td>1.301239e-10</td>\n",
       "      <td>32.589995</td>\n",
       "      <td>10</td>\n",
       "      <td>BP</td>\n",
       "      <td>cellular senescence</td>\n",
       "    </tr>\n",
       "    <tr>\n",
       "      <th>10</th>\n",
       "      <td>GO:0090399</td>\n",
       "      <td>3.562508e-10</td>\n",
       "      <td>49.971326</td>\n",
       "      <td>8</td>\n",
       "      <td>BP</td>\n",
       "      <td>replicative senescence</td>\n",
       "    </tr>\n",
       "    <tr>\n",
       "      <th>11</th>\n",
       "      <td>GO:0042981</td>\n",
       "      <td>1.117417e-09</td>\n",
       "      <td>6.871057</td>\n",
       "      <td>22</td>\n",
       "      <td>BP</td>\n",
       "      <td>regulation of apoptotic process</td>\n",
       "    </tr>\n",
       "    <tr>\n",
       "      <th>12</th>\n",
       "      <td>GO:0007346</td>\n",
       "      <td>2.539539e-09</td>\n",
       "      <td>12.955529</td>\n",
       "      <td>14</td>\n",
       "      <td>BP</td>\n",
       "      <td>regulation of mitotic cell cycle</td>\n",
       "    </tr>\n",
       "    <tr>\n",
       "      <th>13</th>\n",
       "      <td>GO:0006974</td>\n",
       "      <td>4.997316e-09</td>\n",
       "      <td>7.172918</td>\n",
       "      <td>20</td>\n",
       "      <td>BP</td>\n",
       "      <td>cellular response to DNA damage stimulus</td>\n",
       "    </tr>\n",
       "    <tr>\n",
       "      <th>14</th>\n",
       "      <td>GO:0043066</td>\n",
       "      <td>5.266874e-09</td>\n",
       "      <td>4.634867</td>\n",
       "      <td>29</td>\n",
       "      <td>BP</td>\n",
       "      <td>negative regulation of apoptotic process</td>\n",
       "    </tr>\n",
       "    <tr>\n",
       "      <th>15</th>\n",
       "      <td>GO:0010628</td>\n",
       "      <td>2.851126e-08</td>\n",
       "      <td>5.786154</td>\n",
       "      <td>22</td>\n",
       "      <td>BP</td>\n",
       "      <td>positive regulation of gene expression</td>\n",
       "    </tr>\n",
       "    <tr>\n",
       "      <th>279</th>\n",
       "      <td>GO:0008134</td>\n",
       "      <td>3.145491e-08</td>\n",
       "      <td>5.745832</td>\n",
       "      <td>22</td>\n",
       "      <td>MF</td>\n",
       "      <td>transcription factor binding</td>\n",
       "    </tr>\n",
       "    <tr>\n",
       "      <th>16</th>\n",
       "      <td>GO:0048146</td>\n",
       "      <td>3.492404e-08</td>\n",
       "      <td>16.167194</td>\n",
       "      <td>11</td>\n",
       "      <td>BP</td>\n",
       "      <td>positive regulation of fibroblast proliferation</td>\n",
       "    </tr>\n",
       "    <tr>\n",
       "      <th>280</th>\n",
       "      <td>GO:0044212</td>\n",
       "      <td>3.492404e-08</td>\n",
       "      <td>6.814272</td>\n",
       "      <td>19</td>\n",
       "      <td>MF</td>\n",
       "      <td>transcription regulatory region DNA binding</td>\n",
       "    </tr>\n",
       "    <tr>\n",
       "      <th>18</th>\n",
       "      <td>GO:1901796</td>\n",
       "      <td>1.731916e-07</td>\n",
       "      <td>8.453796</td>\n",
       "      <td>15</td>\n",
       "      <td>BP</td>\n",
       "      <td>regulation of signal transduction by p53 class mediator</td>\n",
       "    </tr>\n",
       "    <tr>\n",
       "      <th>281</th>\n",
       "      <td>GO:0004708</td>\n",
       "      <td>2.232754e-07</td>\n",
       "      <td>34.979928</td>\n",
       "      <td>7</td>\n",
       "      <td>MF</td>\n",
       "      <td>MAP kinase kinase activity</td>\n",
       "    </tr>\n",
       "    <tr>\n",
       "      <th>19</th>\n",
       "      <td>GO:0006338</td>\n",
       "      <td>3.566997e-07</td>\n",
       "      <td>11.243548</td>\n",
       "      <td>12</td>\n",
       "      <td>BP</td>\n",
       "      <td>chromatin remodeling</td>\n",
       "    </tr>\n",
       "    <tr>\n",
       "      <th>20</th>\n",
       "      <td>GO:0006978</td>\n",
       "      <td>3.693369e-07</td>\n",
       "      <td>32.793683</td>\n",
       "      <td>7</td>\n",
       "      <td>BP</td>\n",
       "      <td>DNA damage response, signal transduction by p53 class mediator resulting in ...</td>\n",
       "    </tr>\n",
       "    <tr>\n",
       "      <th>21</th>\n",
       "      <td>GO:0007569</td>\n",
       "      <td>3.906231e-07</td>\n",
       "      <td>23.986237</td>\n",
       "      <td>8</td>\n",
       "      <td>BP</td>\n",
       "      <td>cell aging</td>\n",
       "    </tr>\n",
       "    <tr>\n",
       "      <th>282</th>\n",
       "      <td>GO:0003700</td>\n",
       "      <td>4.706095e-07</td>\n",
       "      <td>3.234889</td>\n",
       "      <td>35</td>\n",
       "      <td>MF</td>\n",
       "      <td>transcription factor activity, sequence-specific DNA binding</td>\n",
       "    </tr>\n",
       "    <tr>\n",
       "      <th>283</th>\n",
       "      <td>GO:0019899</td>\n",
       "      <td>4.782165e-07</td>\n",
       "      <td>4.893335</td>\n",
       "      <td>22</td>\n",
       "      <td>MF</td>\n",
       "      <td>enzyme binding</td>\n",
       "    </tr>\n",
       "    <tr>\n",
       "      <th>22</th>\n",
       "      <td>GO:2000772</td>\n",
       "      <td>4.796663e-07</td>\n",
       "      <td>44.974194</td>\n",
       "      <td>6</td>\n",
       "      <td>BP</td>\n",
       "      <td>regulation of cellular senescence</td>\n",
       "    </tr>\n",
       "    <tr>\n",
       "      <th>284</th>\n",
       "      <td>GO:0003714</td>\n",
       "      <td>5.873369e-07</td>\n",
       "      <td>6.468370</td>\n",
       "      <td>17</td>\n",
       "      <td>MF</td>\n",
       "      <td>transcription corepressor activity</td>\n",
       "    </tr>\n",
       "    <tr>\n",
       "      <th>23</th>\n",
       "      <td>GO:0071456</td>\n",
       "      <td>6.227292e-07</td>\n",
       "      <td>9.280389</td>\n",
       "      <td>13</td>\n",
       "      <td>BP</td>\n",
       "      <td>cellular response to hypoxia</td>\n",
       "    </tr>\n",
       "    <tr>\n",
       "      <th>286</th>\n",
       "      <td>GO:0002039</td>\n",
       "      <td>8.552304e-07</td>\n",
       "      <td>11.778955</td>\n",
       "      <td>11</td>\n",
       "      <td>MF</td>\n",
       "      <td>p53 binding</td>\n",
       "    </tr>\n",
       "    <tr>\n",
       "      <th>24</th>\n",
       "      <td>GO:0035897</td>\n",
       "      <td>9.590101e-07</td>\n",
       "      <td>62.464158</td>\n",
       "      <td>5</td>\n",
       "      <td>BP</td>\n",
       "      <td>proteolysis in other organism</td>\n",
       "    </tr>\n",
       "    <tr>\n",
       "      <th>25</th>\n",
       "      <td>GO:0008283</td>\n",
       "      <td>1.061717e-06</td>\n",
       "      <td>4.645222</td>\n",
       "      <td>22</td>\n",
       "      <td>BP</td>\n",
       "      <td>cell proliferation</td>\n",
       "    </tr>\n",
       "    <tr>\n",
       "      <th>26</th>\n",
       "      <td>GO:0070301</td>\n",
       "      <td>2.035506e-06</td>\n",
       "      <td>12.704574</td>\n",
       "      <td>10</td>\n",
       "      <td>BP</td>\n",
       "      <td>cellular response to hydrogen peroxide</td>\n",
       "    </tr>\n",
       "    <tr>\n",
       "      <th>287</th>\n",
       "      <td>GO:0001077</td>\n",
       "      <td>2.064981e-06</td>\n",
       "      <td>5.197747</td>\n",
       "      <td>19</td>\n",
       "      <td>MF</td>\n",
       "      <td>transcriptional activator activity, RNA polymerase II core promoter proximal...</td>\n",
       "    </tr>\n",
       "    <tr>\n",
       "      <th>27</th>\n",
       "      <td>GO:0010629</td>\n",
       "      <td>2.590815e-06</td>\n",
       "      <td>7.390126</td>\n",
       "      <td>14</td>\n",
       "      <td>BP</td>\n",
       "      <td>negative regulation of gene expression</td>\n",
       "    </tr>\n",
       "    <tr>\n",
       "      <th>28</th>\n",
       "      <td>GO:0043065</td>\n",
       "      <td>2.667301e-06</td>\n",
       "      <td>4.835935</td>\n",
       "      <td>20</td>\n",
       "      <td>BP</td>\n",
       "      <td>positive regulation of apoptotic process</td>\n",
       "    </tr>\n",
       "    <tr>\n",
       "      <th>29</th>\n",
       "      <td>GO:0006977</td>\n",
       "      <td>3.093876e-06</td>\n",
       "      <td>12.089837</td>\n",
       "      <td>10</td>\n",
       "      <td>BP</td>\n",
       "      <td>DNA damage response, signal transduction by p53 class mediator resulting in ...</td>\n",
       "    </tr>\n",
       "    <tr>\n",
       "      <th>252</th>\n",
       "      <td>GO:0000790</td>\n",
       "      <td>3.160519e-06</td>\n",
       "      <td>6.118938</td>\n",
       "      <td>16</td>\n",
       "      <td>CC</td>\n",
       "      <td>nuclear chromatin</td>\n",
       "    </tr>\n",
       "    <tr>\n",
       "      <th>288</th>\n",
       "      <td>GO:0004713</td>\n",
       "      <td>3.234137e-06</td>\n",
       "      <td>7.987220</td>\n",
       "      <td>13</td>\n",
       "      <td>MF</td>\n",
       "      <td>protein tyrosine kinase activity</td>\n",
       "    </tr>\n",
       "    <tr>\n",
       "      <th>30</th>\n",
       "      <td>GO:0000165</td>\n",
       "      <td>6.806923e-06</td>\n",
       "      <td>5.072277</td>\n",
       "      <td>18</td>\n",
       "      <td>BP</td>\n",
       "      <td>MAPK cascade</td>\n",
       "    </tr>\n",
       "    <tr>\n",
       "      <th>31</th>\n",
       "      <td>GO:0090400</td>\n",
       "      <td>1.001153e-05</td>\n",
       "      <td>74.956989</td>\n",
       "      <td>4</td>\n",
       "      <td>BP</td>\n",
       "      <td>stress-induced premature senescence</td>\n",
       "    </tr>\n",
       "    <tr>\n",
       "      <th>32</th>\n",
       "      <td>GO:0071480</td>\n",
       "      <td>1.166882e-05</td>\n",
       "      <td>20.180728</td>\n",
       "      <td>7</td>\n",
       "      <td>BP</td>\n",
       "      <td>cellular response to gamma radiation</td>\n",
       "    </tr>\n",
       "    <tr>\n",
       "      <th>33</th>\n",
       "      <td>GO:0045766</td>\n",
       "      <td>1.166882e-05</td>\n",
       "      <td>7.960034</td>\n",
       "      <td>12</td>\n",
       "      <td>BP</td>\n",
       "      <td>positive regulation of angiogenesis</td>\n",
       "    </tr>\n",
       "    <tr>\n",
       "      <th>34</th>\n",
       "      <td>GO:0006915</td>\n",
       "      <td>1.684008e-05</td>\n",
       "      <td>3.529048</td>\n",
       "      <td>25</td>\n",
       "      <td>BP</td>\n",
       "      <td>apoptotic process</td>\n",
       "    </tr>\n",
       "  </tbody>\n",
       "</table>\n",
       "</div>"
      ],
      "text/plain": [
       "             id        pvalue  enrichment  cellage_count  ns  \\\n",
       "248  GO:0005654  1.560954e-35    3.270941            131  CC   \n",
       "274  GO:0004674  4.128163e-25    9.156678             43  MF   \n",
       "0    GO:0000122  4.568953e-24    5.697910             58  BP   \n",
       "1    GO:0045944  1.295481e-23    4.779866             66  BP   \n",
       "2    GO:0006468  1.485259e-21    7.375631             43  BP   \n",
       "275  GO:0005524  4.814790e-21    3.807012             74  MF   \n",
       "3    GO:0008285  1.471026e-19    7.457456             39  BP   \n",
       "4    GO:0045893  8.638668e-18    6.031022             42  BP   \n",
       "5    GO:0045892  1.730570e-16    6.077594             39  BP   \n",
       "276  GO:0003682  5.293327e-13    6.246416             31  MF   \n",
       "6    GO:0007050  2.779976e-12   10.863332             20  BP   \n",
       "7    GO:0018105  7.947940e-12   10.268081             20  BP   \n",
       "277  GO:0019901  1.836943e-11    5.664256             30  MF   \n",
       "278  GO:0004672  9.289624e-11    8.372855             21  MF   \n",
       "8    GO:0006366  1.041977e-10    4.484606             35  BP   \n",
       "9    GO:0090398  1.301239e-10   32.589995             10  BP   \n",
       "10   GO:0090399  3.562508e-10   49.971326              8  BP   \n",
       "11   GO:0042981  1.117417e-09    6.871057             22  BP   \n",
       "12   GO:0007346  2.539539e-09   12.955529             14  BP   \n",
       "13   GO:0006974  4.997316e-09    7.172918             20  BP   \n",
       "14   GO:0043066  5.266874e-09    4.634867             29  BP   \n",
       "15   GO:0010628  2.851126e-08    5.786154             22  BP   \n",
       "279  GO:0008134  3.145491e-08    5.745832             22  MF   \n",
       "16   GO:0048146  3.492404e-08   16.167194             11  BP   \n",
       "280  GO:0044212  3.492404e-08    6.814272             19  MF   \n",
       "18   GO:1901796  1.731916e-07    8.453796             15  BP   \n",
       "281  GO:0004708  2.232754e-07   34.979928              7  MF   \n",
       "19   GO:0006338  3.566997e-07   11.243548             12  BP   \n",
       "20   GO:0006978  3.693369e-07   32.793683              7  BP   \n",
       "21   GO:0007569  3.906231e-07   23.986237              8  BP   \n",
       "282  GO:0003700  4.706095e-07    3.234889             35  MF   \n",
       "283  GO:0019899  4.782165e-07    4.893335             22  MF   \n",
       "22   GO:2000772  4.796663e-07   44.974194              6  BP   \n",
       "284  GO:0003714  5.873369e-07    6.468370             17  MF   \n",
       "23   GO:0071456  6.227292e-07    9.280389             13  BP   \n",
       "286  GO:0002039  8.552304e-07   11.778955             11  MF   \n",
       "24   GO:0035897  9.590101e-07   62.464158              5  BP   \n",
       "25   GO:0008283  1.061717e-06    4.645222             22  BP   \n",
       "26   GO:0070301  2.035506e-06   12.704574             10  BP   \n",
       "287  GO:0001077  2.064981e-06    5.197747             19  MF   \n",
       "27   GO:0010629  2.590815e-06    7.390126             14  BP   \n",
       "28   GO:0043065  2.667301e-06    4.835935             20  BP   \n",
       "29   GO:0006977  3.093876e-06   12.089837             10  BP   \n",
       "252  GO:0000790  3.160519e-06    6.118938             16  CC   \n",
       "288  GO:0004713  3.234137e-06    7.987220             13  MF   \n",
       "30   GO:0000165  6.806923e-06    5.072277             18  BP   \n",
       "31   GO:0090400  1.001153e-05   74.956989              4  BP   \n",
       "32   GO:0071480  1.166882e-05   20.180728              7  BP   \n",
       "33   GO:0045766  1.166882e-05    7.960034             12  BP   \n",
       "34   GO:0006915  1.684008e-05    3.529048             25  BP   \n",
       "\n",
       "                                                                                name  \n",
       "248                                                                      nucleoplasm  \n",
       "274                                         protein serine/threonine kinase activity  \n",
       "0               negative regulation of transcription from RNA polymerase II promoter  \n",
       "1               positive regulation of transcription from RNA polymerase II promoter  \n",
       "2                                                            protein phosphorylation  \n",
       "275                                                                      ATP binding  \n",
       "3                                          negative regulation of cell proliferation  \n",
       "4                                positive regulation of transcription, DNA-templated  \n",
       "5                                negative regulation of transcription, DNA-templated  \n",
       "276                                                                chromatin binding  \n",
       "6                                                                  cell cycle arrest  \n",
       "7                                                    peptidyl-serine phosphorylation  \n",
       "277                                                           protein kinase binding  \n",
       "278                                                          protein kinase activity  \n",
       "8                                      transcription from RNA polymerase II promoter  \n",
       "9                                                                cellular senescence  \n",
       "10                                                            replicative senescence  \n",
       "11                                                   regulation of apoptotic process  \n",
       "12                                                  regulation of mitotic cell cycle  \n",
       "13                                          cellular response to DNA damage stimulus  \n",
       "14                                          negative regulation of apoptotic process  \n",
       "15                                            positive regulation of gene expression  \n",
       "279                                                     transcription factor binding  \n",
       "16                                   positive regulation of fibroblast proliferation  \n",
       "280                                      transcription regulatory region DNA binding  \n",
       "18                           regulation of signal transduction by p53 class mediator  \n",
       "281                                                       MAP kinase kinase activity  \n",
       "19                                                              chromatin remodeling  \n",
       "20   DNA damage response, signal transduction by p53 class mediator resulting in ...  \n",
       "21                                                                        cell aging  \n",
       "282                     transcription factor activity, sequence-specific DNA binding  \n",
       "283                                                                   enzyme binding  \n",
       "22                                                 regulation of cellular senescence  \n",
       "284                                               transcription corepressor activity  \n",
       "23                                                      cellular response to hypoxia  \n",
       "286                                                                      p53 binding  \n",
       "24                                                     proteolysis in other organism  \n",
       "25                                                                cell proliferation  \n",
       "26                                            cellular response to hydrogen peroxide  \n",
       "287  transcriptional activator activity, RNA polymerase II core promoter proximal...  \n",
       "27                                            negative regulation of gene expression  \n",
       "28                                          positive regulation of apoptotic process  \n",
       "29   DNA damage response, signal transduction by p53 class mediator resulting in ...  \n",
       "252                                                                nuclear chromatin  \n",
       "288                                                 protein tyrosine kinase activity  \n",
       "30                                                                      MAPK cascade  \n",
       "31                                               stress-induced premature senescence  \n",
       "32                                              cellular response to gamma radiation  \n",
       "33                                               positive regulation of angiogenesis  \n",
       "34                                                                 apoptotic process  "
      ]
     },
     "execution_count": 22,
     "metadata": {},
     "output_type": "execute_result"
    }
   ],
   "source": [
    "results_df.query('enrichment > 3 and pvalue < 0.001').sort_values('pvalue', ascending=True)[:50]"
   ]
  },
  {
   "cell_type": "markdown",
   "metadata": {},
   "source": [
    "# Make Senescence Classifier"
   ]
  },
  {
   "cell_type": "code",
   "execution_count": 23,
   "metadata": {
    "ExecuteTime": {
     "end_time": "2017-09-25T00:06:04.933730Z",
     "start_time": "2017-09-25T00:06:04.777950Z"
    }
   },
   "outputs": [],
   "source": [
    "import sklearn"
   ]
  },
  {
   "cell_type": "code",
   "execution_count": 24,
   "metadata": {
    "ExecuteTime": {
     "end_time": "2017-09-25T00:06:04.970171Z",
     "start_time": "2017-09-25T00:06:04.936460Z"
    }
   },
   "outputs": [],
   "source": [
    "gene_ids = list(geneid2gos_human.keys())"
   ]
  },
  {
   "cell_type": "code",
   "execution_count": 25,
   "metadata": {
    "ExecuteTime": {
     "end_time": "2017-09-25T00:06:05.015452Z",
     "start_time": "2017-09-25T00:06:04.974190Z"
    }
   },
   "outputs": [],
   "source": [
    "gene_terms = list(geneid2gos_human.values())"
   ]
  },
  {
   "cell_type": "markdown",
   "metadata": {},
   "source": [
    "## Encode GO terms with one-hot vectorization"
   ]
  },
  {
   "cell_type": "code",
   "execution_count": 26,
   "metadata": {
    "ExecuteTime": {
     "end_time": "2017-09-25T00:06:05.085032Z",
     "start_time": "2017-09-25T00:06:05.018044Z"
    }
   },
   "outputs": [],
   "source": [
    "from sklearn.feature_extraction.text import CountVectorizer"
   ]
  },
  {
   "cell_type": "code",
   "execution_count": 27,
   "metadata": {
    "ExecuteTime": {
     "end_time": "2017-09-25T00:06:05.115409Z",
     "start_time": "2017-09-25T00:06:05.087768Z"
    }
   },
   "outputs": [],
   "source": [
    "identity = lambda x: x"
   ]
  },
  {
   "cell_type": "code",
   "execution_count": 28,
   "metadata": {
    "ExecuteTime": {
     "end_time": "2017-09-25T00:06:05.146821Z",
     "start_time": "2017-09-25T00:06:05.118614Z"
    }
   },
   "outputs": [],
   "source": [
    "vectorizer = CountVectorizer(lowercase=False, preprocessor=identity, binary=True, analyzer=identity)"
   ]
  },
  {
   "cell_type": "markdown",
   "metadata": {},
   "source": [
    "Create the feature vector:"
   ]
  },
  {
   "cell_type": "code",
   "execution_count": 29,
   "metadata": {
    "ExecuteTime": {
     "end_time": "2017-09-25T00:06:05.537405Z",
     "start_time": "2017-09-25T00:06:05.150194Z"
    }
   },
   "outputs": [],
   "source": [
    "X = vectorizer.fit_transform(gene_terms)"
   ]
  },
  {
   "cell_type": "code",
   "execution_count": 30,
   "metadata": {
    "ExecuteTime": {
     "end_time": "2017-09-25T00:06:05.566092Z",
     "start_time": "2017-09-25T00:06:05.540331Z"
    }
   },
   "outputs": [
    {
     "data": {
      "text/plain": [
       "<19238x17506 sparse matrix of type '<class 'numpy.int64'>'\n",
       "\twith 264388 stored elements in Compressed Sparse Row format>"
      ]
     },
     "execution_count": 30,
     "metadata": {},
     "output_type": "execute_result"
    }
   ],
   "source": [
    "X"
   ]
  },
  {
   "cell_type": "markdown",
   "metadata": {},
   "source": [
    "Double check the vectorization:"
   ]
  },
  {
   "cell_type": "code",
   "execution_count": 31,
   "metadata": {
    "ExecuteTime": {
     "end_time": "2017-09-25T00:06:05.601131Z",
     "start_time": "2017-09-25T00:06:05.569839Z"
    }
   },
   "outputs": [
    {
     "data": {
      "text/plain": [
       "array([10, 24,  3,  4, 19, 11, 13, 20, 18, 37])"
      ]
     },
     "execution_count": 31,
     "metadata": {},
     "output_type": "execute_result"
    }
   ],
   "source": [
    "X.sum(axis=1).A1[:10]"
   ]
  },
  {
   "cell_type": "code",
   "execution_count": 32,
   "metadata": {
    "ExecuteTime": {
     "end_time": "2017-09-25T00:06:05.637718Z",
     "start_time": "2017-09-25T00:06:05.604621Z"
    }
   },
   "outputs": [
    {
     "data": {
      "text/plain": [
       "<19238x17506 sparse matrix of type '<class 'numpy.int64'>'\n",
       "\twith 264388 stored elements in Compressed Sparse Row format>"
      ]
     },
     "execution_count": 32,
     "metadata": {},
     "output_type": "execute_result"
    }
   ],
   "source": [
    "X"
   ]
  },
  {
   "cell_type": "code",
   "execution_count": 33,
   "metadata": {
    "ExecuteTime": {
     "end_time": "2017-09-25T00:06:05.672568Z",
     "start_time": "2017-09-25T00:06:05.640912Z"
    }
   },
   "outputs": [
    {
     "data": {
      "text/plain": [
       "[10, 24, 3, 4, 19, 11, 13, 20, 18, 37]"
      ]
     },
     "execution_count": 33,
     "metadata": {},
     "output_type": "execute_result"
    }
   ],
   "source": [
    "[len(terms) for terms in gene_terms[:10]]"
   ]
  },
  {
   "cell_type": "markdown",
   "metadata": {},
   "source": [
    "## Label the genes as senescence-related or not"
   ]
  },
  {
   "cell_type": "code",
   "execution_count": 34,
   "metadata": {
    "ExecuteTime": {
     "end_time": "2017-09-25T00:06:05.708209Z",
     "start_time": "2017-09-25T00:06:05.676638Z"
    }
   },
   "outputs": [
    {
     "data": {
      "text/plain": [
       "[1, 2, 9, 10, 12, 13, 14, 15, 16, 18]"
      ]
     },
     "execution_count": 34,
     "metadata": {},
     "output_type": "execute_result"
    }
   ],
   "source": [
    "gene_ids[:10]"
   ]
  },
  {
   "cell_type": "code",
   "execution_count": 35,
   "metadata": {
    "ExecuteTime": {
     "end_time": "2017-09-25T00:06:05.741046Z",
     "start_time": "2017-09-25T00:06:05.711826Z"
    }
   },
   "outputs": [
    {
     "data": {
      "text/plain": [
       "279"
      ]
     },
     "execution_count": 35,
     "metadata": {},
     "output_type": "execute_result"
    }
   ],
   "source": [
    "cellage_id_set = set(cellage_df.entrez_id.values)\n",
    "len(cellage_id_set)"
   ]
  },
  {
   "cell_type": "code",
   "execution_count": 36,
   "metadata": {
    "ExecuteTime": {
     "end_time": "2017-09-25T00:06:05.776710Z",
     "start_time": "2017-09-25T00:06:05.744558Z"
    }
   },
   "outputs": [],
   "source": [
    "labels = np.array([gene_id in cellage_id_set for gene_id in gene_ids])"
   ]
  },
  {
   "cell_type": "code",
   "execution_count": 37,
   "metadata": {
    "ExecuteTime": {
     "end_time": "2017-09-25T00:06:05.811950Z",
     "start_time": "2017-09-25T00:06:05.780509Z"
    }
   },
   "outputs": [
    {
     "data": {
      "text/plain": [
       "277"
      ]
     },
     "execution_count": 37,
     "metadata": {},
     "output_type": "execute_result"
    }
   ],
   "source": [
    "labels.sum()"
   ]
  },
  {
   "cell_type": "markdown",
   "metadata": {},
   "source": [
    "Two genes aren't in the GO? That's odd..."
   ]
  },
  {
   "cell_type": "markdown",
   "metadata": {},
   "source": [
    "## Train & Test a few classifiers"
   ]
  },
  {
   "cell_type": "code",
   "execution_count": 53,
   "metadata": {
    "ExecuteTime": {
     "end_time": "2017-09-25T00:28:53.243054Z",
     "start_time": "2017-09-25T00:28:53.220153Z"
    }
   },
   "outputs": [],
   "source": [
    "from sklearn.model_selection import cross_val_predict\n",
    "from sklearn.metrics import confusion_matrix, roc_auc_score, roc_curve, precision_recall_fscore_support"
   ]
  },
  {
   "cell_type": "code",
   "execution_count": 54,
   "metadata": {
    "ExecuteTime": {
     "end_time": "2017-09-25T00:28:53.425362Z",
     "start_time": "2017-09-25T00:28:53.387592Z"
    }
   },
   "outputs": [],
   "source": [
    "def show_classifier_performance(labels, label_preds, thresh=0.5, names=None):\n",
    "    y = labels\n",
    "    yhat = label_preds[:, 1]\n",
    "    if names is None:\n",
    "        names = ['Other', 'Senescense-related']\n",
    "    conf_mat = pd.DataFrame(confusion_matrix(y, yhat > thresh), index=names, columns=names)\n",
    "    print('Confusion Matrix')\n",
    "    display(conf_mat)\n",
    "    print('\\nClassification Report') \n",
    "    display(pd.DataFrame.from_records(\n",
    "        precision_recall_fscore_support(y, yhat > thresh),\n",
    "        index=['Precision', 'Recall', 'F-Score', 'Support'],\n",
    "        columns=names\n",
    "    ).T)\n",
    "    fpr, tpr, _ = roc_curve(y, yhat)\n",
    "    plot_roc(fpr, tpr)"
   ]
  },
  {
   "cell_type": "code",
   "execution_count": 55,
   "metadata": {
    "ExecuteTime": {
     "end_time": "2017-09-25T00:28:53.628830Z",
     "start_time": "2017-09-25T00:28:53.591832Z"
    }
   },
   "outputs": [],
   "source": [
    "def plot_roc(fpr, tpr):\n",
    "    plt.figure(figsize=(6,6))\n",
    "    roc_auc = sklearn.metrics.auc(fpr, tpr)\n",
    "    plt.plot(\n",
    "        fpr, tpr, label='ROC curve (area = %0.2f)' % roc_auc,\n",
    "    )\n",
    "    plt.plot([0, 1], [0, 1], color='black', linestyle='--')\n",
    "    plt.xlim([0.0, 1.0])\n",
    "    plt.ylim([0.0, 1.0])\n",
    "    plt.xlabel('False Positive Rate')\n",
    "    plt.ylabel('True Positive Rate')\n",
    "    plt.title('ROC')\n",
    "    plt.legend(loc=\"lower right\")"
   ]
  },
  {
   "cell_type": "code",
   "execution_count": 56,
   "metadata": {
    "ExecuteTime": {
     "end_time": "2017-09-25T00:28:54.017939Z",
     "start_time": "2017-09-25T00:28:53.955414Z"
    }
   },
   "outputs": [],
   "source": [
    "def get_top_features(clf, vectorizer):\n",
    "    feat_names = vectorizer.get_feature_names()\n",
    "    if hasattr(clf, 'best_estimator_'):\n",
    "        clf = clf.best_estimator_\n",
    "    else:\n",
    "        clf = clf\n",
    "    if hasattr(clf, 'coef_'):\n",
    "        if len(clf.coef_.shape) > 1:\n",
    "            importances = clf.coef_[0].T\n",
    "        importances = clf.coef_.T\n",
    "    elif hasattr(clf, 'feature_importances_'):\n",
    "        importances = clf.feature_importances_\n",
    "    assert len(importances) == len(feat_names), 'length mismatch: {} != {}'.format(\n",
    "        len(importances), len(feat_names)\n",
    "    )\n",
    "    df = pd.DataFrame(importances, index=feat_names)\n",
    "    df.columns = ['importance']\n",
    "    df['abs_importance'] = df.importance.abs()\n",
    "    return df.sort_values(\n",
    "        'abs_importance', ascending=False\n",
    "    ).drop('abs_importance', axis=1)"
   ]
  },
  {
   "cell_type": "code",
   "execution_count": 57,
   "metadata": {
    "ExecuteTime": {
     "end_time": "2017-09-25T00:28:54.477280Z",
     "start_time": "2017-09-25T00:28:54.442927Z"
    }
   },
   "outputs": [],
   "source": [
    "ns_abbrev_map = {'molecular_function': 'MF', 'biological_process': 'BP', 'cellular_component': 'CC'}\n",
    "def go_annotate(df):\n",
    "    df['namespace'] = df.index.map(lambda i: ns_abbrev_map[GO_ns_map[i]])\n",
    "    df['name'] = df.index.map(lambda i: GO_name_map[i])\n",
    "    return df"
   ]
  },
  {
   "cell_type": "code",
   "execution_count": 173,
   "metadata": {
    "ExecuteTime": {
     "end_time": "2017-09-28T15:32:36.046714Z",
     "start_time": "2017-09-28T15:32:35.988364Z"
    }
   },
   "outputs": [],
   "source": [
    "network_candidates = [\n",
    "    'SMAD3', 'EP300', 'CREBBP', 'MDM2', 'HDAC2', 'BTRC', 'DNMT1 ',\n",
    "    'PIN1', 'SKP2', 'KDM4C', 'PTPN6', 'SASH3', 'ARHGAP30', 'SMC4 '\n",
    "]\n",
    "\n",
    "def get_candidates(preds, labels, gene_ids, n=20, gene_list=None):\n",
    "    assert len(preds) == len(labels) == len(gene_ids)\n",
    "    cand_df = pd.DataFrame(\n",
    "        np.stack([labels, preds], axis=1),\n",
    "        columns=['label', 'predicted_prob'], index=pd.Index(gene_ids, name='entrez_id'))\n",
    "    cand_df['symbol'] = entrez_ids_to_symbols(cand_df.index)\n",
    "    cand_df = cand_df.sort_values('predicted_prob', ascending=False).query('label < 1').drop('label', axis=1)\n",
    "    cand_df['percentile'] = 100.0 * np.arange(0, len(cand_df)) / (len(cand_df) - 1)\n",
    "    cand_df = cand_df.reset_index().set_index('symbol')\n",
    "    \n",
    "    if gene_list is not None:\n",
    "        return cand_df.loc[gene_list]\n",
    "    else:\n",
    "        return cand_df.head(n)"
   ]
  },
  {
   "cell_type": "markdown",
   "metadata": {},
   "source": [
    "### Naive Bayes\n",
    "With so many binary features and such high sparsity, Naive Bayes, while simple, is a good bet"
   ]
  },
  {
   "cell_type": "code",
   "execution_count": 543,
   "metadata": {
    "ExecuteTime": {
     "end_time": "2017-09-24T16:35:06.448929Z",
     "start_time": "2017-09-24T16:35:06.417236Z"
    }
   },
   "outputs": [],
   "source": [
    "from sklearn.naive_bayes import BernoulliNB"
   ]
  },
  {
   "cell_type": "code",
   "execution_count": 544,
   "metadata": {
    "ExecuteTime": {
     "end_time": "2017-09-24T16:35:06.479458Z",
     "start_time": "2017-09-24T16:35:06.452010Z"
    }
   },
   "outputs": [],
   "source": [
    "clf = BernoulliNB(fit_prior=False)"
   ]
  },
  {
   "cell_type": "code",
   "execution_count": 545,
   "metadata": {
    "ExecuteTime": {
     "end_time": "2017-09-24T16:35:06.637906Z",
     "start_time": "2017-09-24T16:35:06.482409Z"
    }
   },
   "outputs": [],
   "source": [
    "label_preds = cross_val_predict(clf, X, labels, cv=3, method='predict_proba')"
   ]
  },
  {
   "cell_type": "code",
   "execution_count": 546,
   "metadata": {
    "ExecuteTime": {
     "end_time": "2017-09-24T16:35:07.169367Z",
     "start_time": "2017-09-24T16:35:06.640926Z"
    }
   },
   "outputs": [
    {
     "name": "stdout",
     "output_type": "stream",
     "text": [
      "Confusion Matrix\n"
     ]
    },
    {
     "data": {
      "text/html": [
       "<div>\n",
       "<style>\n",
       "    .dataframe thead tr:only-child th {\n",
       "        text-align: right;\n",
       "    }\n",
       "\n",
       "    .dataframe thead th {\n",
       "        text-align: left;\n",
       "    }\n",
       "\n",
       "    .dataframe tbody tr th {\n",
       "        vertical-align: top;\n",
       "    }\n",
       "</style>\n",
       "<table border=\"1\" class=\"dataframe\">\n",
       "  <thead>\n",
       "    <tr style=\"text-align: right;\">\n",
       "      <th></th>\n",
       "      <th>Other</th>\n",
       "      <th>Senescense-related</th>\n",
       "    </tr>\n",
       "  </thead>\n",
       "  <tbody>\n",
       "    <tr>\n",
       "      <th>Other</th>\n",
       "      <td>18502</td>\n",
       "      <td>459</td>\n",
       "    </tr>\n",
       "    <tr>\n",
       "      <th>Senescense-related</th>\n",
       "      <td>228</td>\n",
       "      <td>49</td>\n",
       "    </tr>\n",
       "  </tbody>\n",
       "</table>\n",
       "</div>"
      ],
      "text/plain": [
       "                    Other  Senescense-related\n",
       "Other               18502                 459\n",
       "Senescense-related    228                  49"
      ]
     },
     "metadata": {},
     "output_type": "display_data"
    },
    {
     "name": "stdout",
     "output_type": "stream",
     "text": [
      "\n",
      "Classification Report\n"
     ]
    },
    {
     "data": {
      "text/html": [
       "<div>\n",
       "<style>\n",
       "    .dataframe thead tr:only-child th {\n",
       "        text-align: right;\n",
       "    }\n",
       "\n",
       "    .dataframe thead th {\n",
       "        text-align: left;\n",
       "    }\n",
       "\n",
       "    .dataframe tbody tr th {\n",
       "        vertical-align: top;\n",
       "    }\n",
       "</style>\n",
       "<table border=\"1\" class=\"dataframe\">\n",
       "  <thead>\n",
       "    <tr style=\"text-align: right;\">\n",
       "      <th></th>\n",
       "      <th>Precision</th>\n",
       "      <th>Recall</th>\n",
       "      <th>F-Score</th>\n",
       "      <th>Support</th>\n",
       "    </tr>\n",
       "  </thead>\n",
       "  <tbody>\n",
       "    <tr>\n",
       "      <th>Other</th>\n",
       "      <td>0.987827</td>\n",
       "      <td>0.975792</td>\n",
       "      <td>0.981773</td>\n",
       "      <td>18961.0</td>\n",
       "    </tr>\n",
       "    <tr>\n",
       "      <th>Senescense-related</th>\n",
       "      <td>0.096457</td>\n",
       "      <td>0.176895</td>\n",
       "      <td>0.124841</td>\n",
       "      <td>277.0</td>\n",
       "    </tr>\n",
       "  </tbody>\n",
       "</table>\n",
       "</div>"
      ],
      "text/plain": [
       "                    Precision    Recall   F-Score  Support\n",
       "Other                0.987827  0.975792  0.981773  18961.0\n",
       "Senescense-related   0.096457  0.176895  0.124841    277.0"
      ]
     },
     "metadata": {},
     "output_type": "display_data"
    },
    {
     "data": {
      "image/png": "[encoded data removed]",
      "text/plain": [
       "<matplotlib.figure.Figure at 0x127032048>"
      ]
     },
     "metadata": {},
     "output_type": "display_data"
    }
   ],
   "source": [
    "show_classifier_performance(labels, label_preds)"
   ]
  },
  {
   "cell_type": "code",
   "execution_count": 547,
   "metadata": {
    "ExecuteTime": {
     "end_time": "2017-09-24T16:35:07.224321Z",
     "start_time": "2017-09-24T16:35:07.172697Z"
    }
   },
   "outputs": [
    {
     "data": {
      "text/plain": [
       "BernoulliNB(alpha=1.0, binarize=0.0, class_prior=None, fit_prior=False)"
      ]
     },
     "execution_count": 547,
     "metadata": {},
     "output_type": "execute_result"
    }
   ],
   "source": [
    "clf.fit(X, labels)"
   ]
  },
  {
   "cell_type": "markdown",
   "metadata": {},
   "source": [
    "### ElasticNet\n",
    "\n",
    "Use strong regularization to deal with so many parameters"
   ]
  },
  {
   "cell_type": "code",
   "execution_count": 189,
   "metadata": {
    "ExecuteTime": {
     "end_time": "2017-09-28T15:41:03.003282Z",
     "start_time": "2017-09-28T15:41:02.980266Z"
    }
   },
   "outputs": [],
   "source": [
    "import sklearn.linear_model"
   ]
  },
  {
   "cell_type": "code",
   "execution_count": 190,
   "metadata": {
    "ExecuteTime": {
     "end_time": "2017-09-28T15:41:03.409443Z",
     "start_time": "2017-09-28T15:41:03.384794Z"
    }
   },
   "outputs": [],
   "source": [
    "clf = sklearn.linear_model.SGDClassifier(\n",
    "    loss='log', penalty='elasticnet', alpha=0.01, l1_ratio=0.15, class_weight='balanced', max_iter=100\n",
    ")"
   ]
  },
  {
   "cell_type": "code",
   "execution_count": 191,
   "metadata": {
    "ExecuteTime": {
     "end_time": "2017-09-28T15:41:05.993960Z",
     "start_time": "2017-09-28T15:41:05.174996Z"
    }
   },
   "outputs": [
    {
     "data": {
      "text/plain": [
       "SGDClassifier(alpha=0.01, average=False, class_weight='balanced', epsilon=0.1,\n",
       "       eta0=0.0, fit_intercept=True, l1_ratio=0.15,\n",
       "       learning_rate='optimal', loss='log', max_iter=100, n_iter=None,\n",
       "       n_jobs=1, penalty='elasticnet', power_t=0.5, random_state=None,\n",
       "       shuffle=True, tol=None, verbose=0, warm_start=False)"
      ]
     },
     "execution_count": 191,
     "metadata": {},
     "output_type": "execute_result"
    }
   ],
   "source": [
    "clf.fit(X, labels)"
   ]
  },
  {
   "cell_type": "code",
   "execution_count": 66,
   "metadata": {
    "ExecuteTime": {
     "end_time": "2017-09-27T15:34:48.812547Z",
     "start_time": "2017-09-27T15:34:44.056836Z"
    }
   },
   "outputs": [],
   "source": [
    "label_preds = cross_val_predict(clf, X, labels, cv=10, method='predict_proba', n_jobs=-1)"
   ]
  },
  {
   "cell_type": "code",
   "execution_count": 67,
   "metadata": {
    "ExecuteTime": {
     "end_time": "2017-09-27T15:34:49.265136Z",
     "start_time": "2017-09-27T15:34:48.817413Z"
    }
   },
   "outputs": [
    {
     "name": "stdout",
     "output_type": "stream",
     "text": [
      "Confusion Matrix\n"
     ]
    },
    {
     "data": {
      "text/html": [
       "<div>\n",
       "<style>\n",
       "    .dataframe thead tr:only-child th {\n",
       "        text-align: right;\n",
       "    }\n",
       "\n",
       "    .dataframe thead th {\n",
       "        text-align: left;\n",
       "    }\n",
       "\n",
       "    .dataframe tbody tr th {\n",
       "        vertical-align: top;\n",
       "    }\n",
       "</style>\n",
       "<table border=\"1\" class=\"dataframe\">\n",
       "  <thead>\n",
       "    <tr style=\"text-align: right;\">\n",
       "      <th></th>\n",
       "      <th>Other</th>\n",
       "      <th>Senescense-related</th>\n",
       "    </tr>\n",
       "  </thead>\n",
       "  <tbody>\n",
       "    <tr>\n",
       "      <th>Other</th>\n",
       "      <td>17679</td>\n",
       "      <td>1282</td>\n",
       "    </tr>\n",
       "    <tr>\n",
       "      <th>Senescense-related</th>\n",
       "      <td>161</td>\n",
       "      <td>116</td>\n",
       "    </tr>\n",
       "  </tbody>\n",
       "</table>\n",
       "</div>"
      ],
      "text/plain": [
       "                    Other  Senescense-related\n",
       "Other               17679                1282\n",
       "Senescense-related    161                 116"
      ]
     },
     "metadata": {},
     "output_type": "display_data"
    },
    {
     "name": "stdout",
     "output_type": "stream",
     "text": [
      "\n",
      "Classification Report\n"
     ]
    },
    {
     "data": {
      "text/html": [
       "<div>\n",
       "<style>\n",
       "    .dataframe thead tr:only-child th {\n",
       "        text-align: right;\n",
       "    }\n",
       "\n",
       "    .dataframe thead th {\n",
       "        text-align: left;\n",
       "    }\n",
       "\n",
       "    .dataframe tbody tr th {\n",
       "        vertical-align: top;\n",
       "    }\n",
       "</style>\n",
       "<table border=\"1\" class=\"dataframe\">\n",
       "  <thead>\n",
       "    <tr style=\"text-align: right;\">\n",
       "      <th></th>\n",
       "      <th>Precision</th>\n",
       "      <th>Recall</th>\n",
       "      <th>F-Score</th>\n",
       "      <th>Support</th>\n",
       "    </tr>\n",
       "  </thead>\n",
       "  <tbody>\n",
       "    <tr>\n",
       "      <th>Other</th>\n",
       "      <td>0.990975</td>\n",
       "      <td>0.932388</td>\n",
       "      <td>0.960789</td>\n",
       "      <td>18961.0</td>\n",
       "    </tr>\n",
       "    <tr>\n",
       "      <th>Senescense-related</th>\n",
       "      <td>0.082976</td>\n",
       "      <td>0.418773</td>\n",
       "      <td>0.138507</td>\n",
       "      <td>277.0</td>\n",
       "    </tr>\n",
       "  </tbody>\n",
       "</table>\n",
       "</div>"
      ],
      "text/plain": [
       "                    Precision    Recall   F-Score  Support\n",
       "Other                0.990975  0.932388  0.960789  18961.0\n",
       "Senescense-related   0.082976  0.418773  0.138507    277.0"
      ]
     },
     "metadata": {},
     "output_type": "display_data"
    },
    {
     "data": {
      "image/png": "[encoded data removed]",
      "text/plain": [
       "<matplotlib.figure.Figure at 0x11d867da0>"
      ]
     },
     "metadata": {},
     "output_type": "display_data"
    }
   ],
   "source": [
    "show_classifier_performance(labels, label_preds, thresh=0.7)"
   ]
  },
  {
   "cell_type": "code",
   "execution_count": 69,
   "metadata": {
    "ExecuteTime": {
     "end_time": "2017-09-27T15:36:47.637108Z",
     "start_time": "2017-09-27T15:36:46.739757Z"
    }
   },
   "outputs": [
    {
     "data": {
      "text/plain": [
       "SGDClassifier(alpha=0.01, average=False, class_weight='balanced', epsilon=0.1,\n",
       "       eta0=0.0, fit_intercept=True, l1_ratio=0.15,\n",
       "       learning_rate='optimal', loss='log', max_iter=100, n_iter=None,\n",
       "       n_jobs=1, penalty='elasticnet', power_t=0.5, random_state=None,\n",
       "       shuffle=True, tol=None, verbose=0, warm_start=False)"
      ]
     },
     "execution_count": 69,
     "metadata": {},
     "output_type": "execute_result"
    }
   ],
   "source": [
    "clf.fit(X, labels)"
   ]
  },
  {
   "cell_type": "code",
   "execution_count": 646,
   "metadata": {
    "ExecuteTime": {
     "end_time": "2017-09-24T17:16:07.321440Z",
     "start_time": "2017-09-24T17:16:07.210407Z"
    }
   },
   "outputs": [],
   "source": [
    "top_feats = go_annotate(get_top_features(clf, vectorizer))"
   ]
  },
  {
   "cell_type": "code",
   "execution_count": 647,
   "metadata": {
    "ExecuteTime": {
     "end_time": "2017-09-24T17:16:07.373290Z",
     "start_time": "2017-09-24T17:16:07.324810Z"
    },
    "scrolled": false
   },
   "outputs": [
    {
     "data": {
      "text/html": [
       "<div>\n",
       "<style>\n",
       "    .dataframe thead tr:only-child th {\n",
       "        text-align: right;\n",
       "    }\n",
       "\n",
       "    .dataframe thead th {\n",
       "        text-align: left;\n",
       "    }\n",
       "\n",
       "    .dataframe tbody tr th {\n",
       "        vertical-align: top;\n",
       "    }\n",
       "</style>\n",
       "<table border=\"1\" class=\"dataframe\">\n",
       "  <thead>\n",
       "    <tr style=\"text-align: right;\">\n",
       "      <th></th>\n",
       "      <th>importance</th>\n",
       "      <th>namespace</th>\n",
       "      <th>name</th>\n",
       "    </tr>\n",
       "  </thead>\n",
       "  <tbody>\n",
       "    <tr>\n",
       "      <th>GO:0016021</th>\n",
       "      <td>-0.824735</td>\n",
       "      <td>CC</td>\n",
       "      <td>integral component of membrane</td>\n",
       "    </tr>\n",
       "    <tr>\n",
       "      <th>GO:0008285</th>\n",
       "      <td>0.731192</td>\n",
       "      <td>BP</td>\n",
       "      <td>negative regulation of cell proliferation</td>\n",
       "    </tr>\n",
       "    <tr>\n",
       "      <th>GO:0000122</th>\n",
       "      <td>0.587924</td>\n",
       "      <td>BP</td>\n",
       "      <td>negative regulation of transcription from RNA polymerase II promoter</td>\n",
       "    </tr>\n",
       "    <tr>\n",
       "      <th>GO:0004674</th>\n",
       "      <td>0.491604</td>\n",
       "      <td>MF</td>\n",
       "      <td>protein serine/threonine kinase activity</td>\n",
       "    </tr>\n",
       "    <tr>\n",
       "      <th>GO:0006468</th>\n",
       "      <td>0.483493</td>\n",
       "      <td>BP</td>\n",
       "      <td>protein phosphorylation</td>\n",
       "    </tr>\n",
       "    <tr>\n",
       "      <th>GO:0005654</th>\n",
       "      <td>0.465936</td>\n",
       "      <td>CC</td>\n",
       "      <td>nucleoplasm</td>\n",
       "    </tr>\n",
       "    <tr>\n",
       "      <th>GO:0005524</th>\n",
       "      <td>0.417341</td>\n",
       "      <td>MF</td>\n",
       "      <td>ATP binding</td>\n",
       "    </tr>\n",
       "    <tr>\n",
       "      <th>GO:0045944</th>\n",
       "      <td>0.412141</td>\n",
       "      <td>BP</td>\n",
       "      <td>positive regulation of transcription from RNA polymerase II promoter</td>\n",
       "    </tr>\n",
       "    <tr>\n",
       "      <th>GO:0005634</th>\n",
       "      <td>0.340402</td>\n",
       "      <td>CC</td>\n",
       "      <td>nucleus</td>\n",
       "    </tr>\n",
       "    <tr>\n",
       "      <th>GO:0005622</th>\n",
       "      <td>0.334649</td>\n",
       "      <td>CC</td>\n",
       "      <td>intracellular</td>\n",
       "    </tr>\n",
       "    <tr>\n",
       "      <th>GO:0045892</th>\n",
       "      <td>0.283067</td>\n",
       "      <td>BP</td>\n",
       "      <td>negative regulation of transcription, DNA-templated</td>\n",
       "    </tr>\n",
       "    <tr>\n",
       "      <th>GO:0003682</th>\n",
       "      <td>0.271371</td>\n",
       "      <td>MF</td>\n",
       "      <td>chromatin binding</td>\n",
       "    </tr>\n",
       "    <tr>\n",
       "      <th>GO:0005525</th>\n",
       "      <td>-0.243392</td>\n",
       "      <td>MF</td>\n",
       "      <td>GTP binding</td>\n",
       "    </tr>\n",
       "    <tr>\n",
       "      <th>GO:0007165</th>\n",
       "      <td>0.242178</td>\n",
       "      <td>BP</td>\n",
       "      <td>signal transduction</td>\n",
       "    </tr>\n",
       "    <tr>\n",
       "      <th>GO:0045296</th>\n",
       "      <td>0.237482</td>\n",
       "      <td>MF</td>\n",
       "      <td>cadherin binding</td>\n",
       "    </tr>\n",
       "    <tr>\n",
       "      <th>GO:0019901</th>\n",
       "      <td>0.235988</td>\n",
       "      <td>MF</td>\n",
       "      <td>protein kinase binding</td>\n",
       "    </tr>\n",
       "    <tr>\n",
       "      <th>GO:0005887</th>\n",
       "      <td>-0.230329</td>\n",
       "      <td>CC</td>\n",
       "      <td>integral component of plasma membrane</td>\n",
       "    </tr>\n",
       "    <tr>\n",
       "      <th>GO:0016055</th>\n",
       "      <td>0.224283</td>\n",
       "      <td>BP</td>\n",
       "      <td>Wnt signaling pathway</td>\n",
       "    </tr>\n",
       "    <tr>\n",
       "      <th>GO:0007050</th>\n",
       "      <td>0.219356</td>\n",
       "      <td>BP</td>\n",
       "      <td>cell cycle arrest</td>\n",
       "    </tr>\n",
       "    <tr>\n",
       "      <th>GO:0046872</th>\n",
       "      <td>-0.219303</td>\n",
       "      <td>MF</td>\n",
       "      <td>metal ion binding</td>\n",
       "    </tr>\n",
       "    <tr>\n",
       "      <th>GO:0007568</th>\n",
       "      <td>0.217997</td>\n",
       "      <td>BP</td>\n",
       "      <td>aging</td>\n",
       "    </tr>\n",
       "    <tr>\n",
       "      <th>GO:0006351</th>\n",
       "      <td>-0.207884</td>\n",
       "      <td>BP</td>\n",
       "      <td>transcription, DNA-templated</td>\n",
       "    </tr>\n",
       "    <tr>\n",
       "      <th>GO:0006355</th>\n",
       "      <td>-0.204351</td>\n",
       "      <td>BP</td>\n",
       "      <td>regulation of transcription, DNA-templated</td>\n",
       "    </tr>\n",
       "    <tr>\n",
       "      <th>GO:0090399</th>\n",
       "      <td>0.195589</td>\n",
       "      <td>BP</td>\n",
       "      <td>replicative senescence</td>\n",
       "    </tr>\n",
       "    <tr>\n",
       "      <th>GO:0045893</th>\n",
       "      <td>0.186276</td>\n",
       "      <td>BP</td>\n",
       "      <td>positive regulation of transcription, DNA-templated</td>\n",
       "    </tr>\n",
       "    <tr>\n",
       "      <th>GO:0006695</th>\n",
       "      <td>0.176047</td>\n",
       "      <td>BP</td>\n",
       "      <td>cholesterol biosynthetic process</td>\n",
       "    </tr>\n",
       "    <tr>\n",
       "      <th>GO:0031994</th>\n",
       "      <td>0.172835</td>\n",
       "      <td>MF</td>\n",
       "      <td>insulin-like growth factor I binding</td>\n",
       "    </tr>\n",
       "    <tr>\n",
       "      <th>GO:0007155</th>\n",
       "      <td>0.164915</td>\n",
       "      <td>BP</td>\n",
       "      <td>cell adhesion</td>\n",
       "    </tr>\n",
       "    <tr>\n",
       "      <th>GO:0010628</th>\n",
       "      <td>0.164480</td>\n",
       "      <td>BP</td>\n",
       "      <td>positive regulation of gene expression</td>\n",
       "    </tr>\n",
       "    <tr>\n",
       "      <th>GO:0043066</th>\n",
       "      <td>0.163954</td>\n",
       "      <td>BP</td>\n",
       "      <td>negative regulation of apoptotic process</td>\n",
       "    </tr>\n",
       "    <tr>\n",
       "      <th>GO:0045766</th>\n",
       "      <td>0.159395</td>\n",
       "      <td>BP</td>\n",
       "      <td>positive regulation of angiogenesis</td>\n",
       "    </tr>\n",
       "    <tr>\n",
       "      <th>GO:0043547</th>\n",
       "      <td>-0.154076</td>\n",
       "      <td>BP</td>\n",
       "      <td>positive regulation of GTPase activity</td>\n",
       "    </tr>\n",
       "    <tr>\n",
       "      <th>GO:0000209</th>\n",
       "      <td>0.148077</td>\n",
       "      <td>BP</td>\n",
       "      <td>protein polyubiquitination</td>\n",
       "    </tr>\n",
       "    <tr>\n",
       "      <th>GO:0005743</th>\n",
       "      <td>-0.146594</td>\n",
       "      <td>CC</td>\n",
       "      <td>mitochondrial inner membrane</td>\n",
       "    </tr>\n",
       "    <tr>\n",
       "      <th>GO:0008283</th>\n",
       "      <td>0.137105</td>\n",
       "      <td>BP</td>\n",
       "      <td>cell proliferation</td>\n",
       "    </tr>\n",
       "    <tr>\n",
       "      <th>GO:0004930</th>\n",
       "      <td>-0.136012</td>\n",
       "      <td>MF</td>\n",
       "      <td>G-protein coupled receptor activity</td>\n",
       "    </tr>\n",
       "    <tr>\n",
       "      <th>GO:0048146</th>\n",
       "      <td>0.133367</td>\n",
       "      <td>BP</td>\n",
       "      <td>positive regulation of fibroblast proliferation</td>\n",
       "    </tr>\n",
       "    <tr>\n",
       "      <th>GO:0005829</th>\n",
       "      <td>0.132199</td>\n",
       "      <td>CC</td>\n",
       "      <td>cytosol</td>\n",
       "    </tr>\n",
       "    <tr>\n",
       "      <th>GO:0006928</th>\n",
       "      <td>0.127235</td>\n",
       "      <td>BP</td>\n",
       "      <td>movement of cell or subcellular component</td>\n",
       "    </tr>\n",
       "    <tr>\n",
       "      <th>GO:0001558</th>\n",
       "      <td>0.124158</td>\n",
       "      <td>BP</td>\n",
       "      <td>regulation of cell growth</td>\n",
       "    </tr>\n",
       "    <tr>\n",
       "      <th>GO:0003779</th>\n",
       "      <td>-0.123382</td>\n",
       "      <td>MF</td>\n",
       "      <td>actin binding</td>\n",
       "    </tr>\n",
       "    <tr>\n",
       "      <th>GO:0018105</th>\n",
       "      <td>0.121789</td>\n",
       "      <td>BP</td>\n",
       "      <td>peptidyl-serine phosphorylation</td>\n",
       "    </tr>\n",
       "    <tr>\n",
       "      <th>GO:0005874</th>\n",
       "      <td>-0.120571</td>\n",
       "      <td>CC</td>\n",
       "      <td>microtubule</td>\n",
       "    </tr>\n",
       "    <tr>\n",
       "      <th>GO:0005509</th>\n",
       "      <td>-0.118694</td>\n",
       "      <td>MF</td>\n",
       "      <td>calcium ion binding</td>\n",
       "    </tr>\n",
       "    <tr>\n",
       "      <th>GO:0001649</th>\n",
       "      <td>0.117478</td>\n",
       "      <td>BP</td>\n",
       "      <td>osteoblast differentiation</td>\n",
       "    </tr>\n",
       "    <tr>\n",
       "      <th>GO:2000772</th>\n",
       "      <td>0.116986</td>\n",
       "      <td>BP</td>\n",
       "      <td>regulation of cellular senescence</td>\n",
       "    </tr>\n",
       "    <tr>\n",
       "      <th>GO:1904813</th>\n",
       "      <td>0.116227</td>\n",
       "      <td>CC</td>\n",
       "      <td>ficolin-1-rich granule lumen</td>\n",
       "    </tr>\n",
       "    <tr>\n",
       "      <th>GO:0004713</th>\n",
       "      <td>0.116005</td>\n",
       "      <td>MF</td>\n",
       "      <td>protein tyrosine kinase activity</td>\n",
       "    </tr>\n",
       "    <tr>\n",
       "      <th>GO:0071456</th>\n",
       "      <td>0.112651</td>\n",
       "      <td>BP</td>\n",
       "      <td>cellular response to hypoxia</td>\n",
       "    </tr>\n",
       "    <tr>\n",
       "      <th>GO:0016569</th>\n",
       "      <td>0.103492</td>\n",
       "      <td>BP</td>\n",
       "      <td>covalent chromatin modification</td>\n",
       "    </tr>\n",
       "  </tbody>\n",
       "</table>\n",
       "</div>"
      ],
      "text/plain": [
       "            importance namespace  \\\n",
       "GO:0016021   -0.824735        CC   \n",
       "GO:0008285    0.731192        BP   \n",
       "GO:0000122    0.587924        BP   \n",
       "GO:0004674    0.491604        MF   \n",
       "GO:0006468    0.483493        BP   \n",
       "GO:0005654    0.465936        CC   \n",
       "GO:0005524    0.417341        MF   \n",
       "GO:0045944    0.412141        BP   \n",
       "GO:0005634    0.340402        CC   \n",
       "GO:0005622    0.334649        CC   \n",
       "GO:0045892    0.283067        BP   \n",
       "GO:0003682    0.271371        MF   \n",
       "GO:0005525   -0.243392        MF   \n",
       "GO:0007165    0.242178        BP   \n",
       "GO:0045296    0.237482        MF   \n",
       "GO:0019901    0.235988        MF   \n",
       "GO:0005887   -0.230329        CC   \n",
       "GO:0016055    0.224283        BP   \n",
       "GO:0007050    0.219356        BP   \n",
       "GO:0046872   -0.219303        MF   \n",
       "GO:0007568    0.217997        BP   \n",
       "GO:0006351   -0.207884        BP   \n",
       "GO:0006355   -0.204351        BP   \n",
       "GO:0090399    0.195589        BP   \n",
       "GO:0045893    0.186276        BP   \n",
       "GO:0006695    0.176047        BP   \n",
       "GO:0031994    0.172835        MF   \n",
       "GO:0007155    0.164915        BP   \n",
       "GO:0010628    0.164480        BP   \n",
       "GO:0043066    0.163954        BP   \n",
       "GO:0045766    0.159395        BP   \n",
       "GO:0043547   -0.154076        BP   \n",
       "GO:0000209    0.148077        BP   \n",
       "GO:0005743   -0.146594        CC   \n",
       "GO:0008283    0.137105        BP   \n",
       "GO:0004930   -0.136012        MF   \n",
       "GO:0048146    0.133367        BP   \n",
       "GO:0005829    0.132199        CC   \n",
       "GO:0006928    0.127235        BP   \n",
       "GO:0001558    0.124158        BP   \n",
       "GO:0003779   -0.123382        MF   \n",
       "GO:0018105    0.121789        BP   \n",
       "GO:0005874   -0.120571        CC   \n",
       "GO:0005509   -0.118694        MF   \n",
       "GO:0001649    0.117478        BP   \n",
       "GO:2000772    0.116986        BP   \n",
       "GO:1904813    0.116227        CC   \n",
       "GO:0004713    0.116005        MF   \n",
       "GO:0071456    0.112651        BP   \n",
       "GO:0016569    0.103492        BP   \n",
       "\n",
       "                                                                            name  \n",
       "GO:0016021                                        integral component of membrane  \n",
       "GO:0008285                             negative regulation of cell proliferation  \n",
       "GO:0000122  negative regulation of transcription from RNA polymerase II promoter  \n",
       "GO:0004674                              protein serine/threonine kinase activity  \n",
       "GO:0006468                                               protein phosphorylation  \n",
       "GO:0005654                                                           nucleoplasm  \n",
       "GO:0005524                                                           ATP binding  \n",
       "GO:0045944  positive regulation of transcription from RNA polymerase II promoter  \n",
       "GO:0005634                                                               nucleus  \n",
       "GO:0005622                                                         intracellular  \n",
       "GO:0045892                   negative regulation of transcription, DNA-templated  \n",
       "GO:0003682                                                     chromatin binding  \n",
       "GO:0005525                                                           GTP binding  \n",
       "GO:0007165                                                   signal transduction  \n",
       "GO:0045296                                                      cadherin binding  \n",
       "GO:0019901                                                protein kinase binding  \n",
       "GO:0005887                                 integral component of plasma membrane  \n",
       "GO:0016055                                                 Wnt signaling pathway  \n",
       "GO:0007050                                                     cell cycle arrest  \n",
       "GO:0046872                                                     metal ion binding  \n",
       "GO:0007568                                                                 aging  \n",
       "GO:0006351                                          transcription, DNA-templated  \n",
       "GO:0006355                            regulation of transcription, DNA-templated  \n",
       "GO:0090399                                                replicative senescence  \n",
       "GO:0045893                   positive regulation of transcription, DNA-templated  \n",
       "GO:0006695                                      cholesterol biosynthetic process  \n",
       "GO:0031994                                  insulin-like growth factor I binding  \n",
       "GO:0007155                                                         cell adhesion  \n",
       "GO:0010628                                positive regulation of gene expression  \n",
       "GO:0043066                              negative regulation of apoptotic process  \n",
       "GO:0045766                                   positive regulation of angiogenesis  \n",
       "GO:0043547                                positive regulation of GTPase activity  \n",
       "GO:0000209                                            protein polyubiquitination  \n",
       "GO:0005743                                          mitochondrial inner membrane  \n",
       "GO:0008283                                                    cell proliferation  \n",
       "GO:0004930                                   G-protein coupled receptor activity  \n",
       "GO:0048146                       positive regulation of fibroblast proliferation  \n",
       "GO:0005829                                                               cytosol  \n",
       "GO:0006928                             movement of cell or subcellular component  \n",
       "GO:0001558                                             regulation of cell growth  \n",
       "GO:0003779                                                         actin binding  \n",
       "GO:0018105                                       peptidyl-serine phosphorylation  \n",
       "GO:0005874                                                           microtubule  \n",
       "GO:0005509                                                   calcium ion binding  \n",
       "GO:0001649                                            osteoblast differentiation  \n",
       "GO:2000772                                     regulation of cellular senescence  \n",
       "GO:1904813                                          ficolin-1-rich granule lumen  \n",
       "GO:0004713                                      protein tyrosine kinase activity  \n",
       "GO:0071456                                          cellular response to hypoxia  \n",
       "GO:0016569                                       covalent chromatin modification  "
      ]
     },
     "execution_count": 647,
     "metadata": {},
     "output_type": "execute_result"
    }
   ],
   "source": [
    "top_feats[:50]"
   ]
  },
  {
   "cell_type": "code",
   "execution_count": 193,
   "metadata": {
    "ExecuteTime": {
     "end_time": "2017-09-28T15:41:36.523665Z",
     "start_time": "2017-09-28T15:41:36.497489Z"
    }
   },
   "outputs": [],
   "source": [
    "senes_preds = clf.predict_proba(X)[:, 1]"
   ]
  },
  {
   "cell_type": "code",
   "execution_count": null,
   "metadata": {},
   "outputs": [],
   "source": []
  },
  {
   "cell_type": "markdown",
   "metadata": {},
   "source": [
    "### Random Forest"
   ]
  },
  {
   "cell_type": "code",
   "execution_count": 556,
   "metadata": {
    "ExecuteTime": {
     "end_time": "2017-09-24T16:35:12.014495Z",
     "start_time": "2017-09-24T16:35:11.976628Z"
    }
   },
   "outputs": [],
   "source": [
    "from sklearn.ensemble import RandomForestClassifier\n",
    "from sklearn.model_selection import RandomizedSearchCV\n",
    "import scipy.stats as stats"
   ]
  },
  {
   "cell_type": "code",
   "execution_count": 557,
   "metadata": {
    "ExecuteTime": {
     "end_time": "2017-09-24T16:35:12.055814Z",
     "start_time": "2017-09-24T16:35:12.018265Z"
    }
   },
   "outputs": [],
   "source": [
    "base_clf = RandomForestClassifier(n_estimators=100, n_jobs=-1, class_weight='balanced')"
   ]
  },
  {
   "cell_type": "code",
   "execution_count": 558,
   "metadata": {
    "ExecuteTime": {
     "end_time": "2017-09-24T16:35:12.118078Z",
     "start_time": "2017-09-24T16:35:12.059264Z"
    }
   },
   "outputs": [],
   "source": [
    "param_dict1 = {\n",
    "    'max_features': ['sqrt', 'log2'],\n",
    "    'min_samples_split': stats.randint(2, 10),\n",
    "    'max_depth': stats.randint(5, 25),\n",
    "    'min_samples_leaf': [1, 20, 0.01, 0.001],\n",
    "}\n",
    "\n",
    "# this set of parameters performs worse\n",
    "param_dict2 = {\"max_depth\": [3, None],\n",
    "              \"max_features\": stats.randint(1, 11),\n",
    "              \"min_samples_split\": stats.randint(2, 11),\n",
    "              \"min_samples_leaf\": stats.randint(1, 11),\n",
    "              \"bootstrap\": [True, False],\n",
    "              \"criterion\": [\"gini\", \"entropy\"]}"
   ]
  },
  {
   "cell_type": "code",
   "execution_count": 559,
   "metadata": {
    "ExecuteTime": {
     "end_time": "2017-09-24T16:35:12.161703Z",
     "start_time": "2017-09-24T16:35:12.123580Z"
    }
   },
   "outputs": [],
   "source": [
    "clf = RandomizedSearchCV(base_clf, param_distributions=param_dict1)"
   ]
  },
  {
   "cell_type": "code",
   "execution_count": 560,
   "metadata": {
    "ExecuteTime": {
     "end_time": "2017-09-24T16:35:52.786081Z",
     "start_time": "2017-09-24T16:35:12.165217Z"
    }
   },
   "outputs": [],
   "source": [
    "label_preds = cross_val_predict(clf, X, labels, cv=3, method='predict_proba', n_jobs=-1)"
   ]
  },
  {
   "cell_type": "code",
   "execution_count": 561,
   "metadata": {
    "ExecuteTime": {
     "end_time": "2017-09-24T16:35:53.196207Z",
     "start_time": "2017-09-24T16:35:52.791037Z"
    }
   },
   "outputs": [
    {
     "name": "stdout",
     "output_type": "stream",
     "text": [
      "Confusion Matrix\n"
     ]
    },
    {
     "data": {
      "text/html": [
       "<div>\n",
       "<style>\n",
       "    .dataframe thead tr:only-child th {\n",
       "        text-align: right;\n",
       "    }\n",
       "\n",
       "    .dataframe thead th {\n",
       "        text-align: left;\n",
       "    }\n",
       "\n",
       "    .dataframe tbody tr th {\n",
       "        vertical-align: top;\n",
       "    }\n",
       "</style>\n",
       "<table border=\"1\" class=\"dataframe\">\n",
       "  <thead>\n",
       "    <tr style=\"text-align: right;\">\n",
       "      <th></th>\n",
       "      <th>Other</th>\n",
       "      <th>Senescense-related</th>\n",
       "    </tr>\n",
       "  </thead>\n",
       "  <tbody>\n",
       "    <tr>\n",
       "      <th>Other</th>\n",
       "      <td>18797</td>\n",
       "      <td>164</td>\n",
       "    </tr>\n",
       "    <tr>\n",
       "      <th>Senescense-related</th>\n",
       "      <td>257</td>\n",
       "      <td>20</td>\n",
       "    </tr>\n",
       "  </tbody>\n",
       "</table>\n",
       "</div>"
      ],
      "text/plain": [
       "                    Other  Senescense-related\n",
       "Other               18797                 164\n",
       "Senescense-related    257                  20"
      ]
     },
     "metadata": {},
     "output_type": "display_data"
    },
    {
     "name": "stdout",
     "output_type": "stream",
     "text": [
      "\n",
      "Classification Report\n"
     ]
    },
    {
     "data": {
      "text/html": [
       "<div>\n",
       "<style>\n",
       "    .dataframe thead tr:only-child th {\n",
       "        text-align: right;\n",
       "    }\n",
       "\n",
       "    .dataframe thead th {\n",
       "        text-align: left;\n",
       "    }\n",
       "\n",
       "    .dataframe tbody tr th {\n",
       "        vertical-align: top;\n",
       "    }\n",
       "</style>\n",
       "<table border=\"1\" class=\"dataframe\">\n",
       "  <thead>\n",
       "    <tr style=\"text-align: right;\">\n",
       "      <th></th>\n",
       "      <th>Precision</th>\n",
       "      <th>Recall</th>\n",
       "      <th>F-Score</th>\n",
       "      <th>Support</th>\n",
       "    </tr>\n",
       "  </thead>\n",
       "  <tbody>\n",
       "    <tr>\n",
       "      <th>Other</th>\n",
       "      <td>0.986512</td>\n",
       "      <td>0.991351</td>\n",
       "      <td>0.988925</td>\n",
       "      <td>18961.0</td>\n",
       "    </tr>\n",
       "    <tr>\n",
       "      <th>Senescense-related</th>\n",
       "      <td>0.108696</td>\n",
       "      <td>0.072202</td>\n",
       "      <td>0.086768</td>\n",
       "      <td>277.0</td>\n",
       "    </tr>\n",
       "  </tbody>\n",
       "</table>\n",
       "</div>"
      ],
      "text/plain": [
       "                    Precision    Recall   F-Score  Support\n",
       "Other                0.986512  0.991351  0.988925  18961.0\n",
       "Senescense-related   0.108696  0.072202  0.086768    277.0"
      ]
     },
     "metadata": {},
     "output_type": "display_data"
    },
    {
     "data": {
      "image/png": "[encoded data removed]",
      "text/plain": [
       "<matplotlib.figure.Figure at 0x126a9df98>"
      ]
     },
     "metadata": {},
     "output_type": "display_data"
    }
   ],
   "source": [
    "show_classifier_performance(labels, label_preds)"
   ]
  },
  {
   "cell_type": "code",
   "execution_count": 562,
   "metadata": {
    "ExecuteTime": {
     "end_time": "2017-09-24T16:36:17.444353Z",
     "start_time": "2017-09-24T16:35:53.199284Z"
    }
   },
   "outputs": [
    {
     "data": {
      "text/plain": [
       "RandomizedSearchCV(cv=None, error_score='raise',\n",
       "          estimator=RandomForestClassifier(bootstrap=True, class_weight='balanced',\n",
       "            criterion='gini', max_depth=None, max_features='auto',\n",
       "            max_leaf_nodes=None, min_impurity_decrease=0.0,\n",
       "            min_impurity_split=None, min_samples_leaf=1,\n",
       "            min_samples_split=2, min_weight_fraction_leaf=0.0,\n",
       "            n_estimators=100, n_jobs=-1, oob_score=False,\n",
       "            random_state=None, verbose=0, warm_start=False),\n",
       "          fit_params=None, iid=True, n_iter=10, n_jobs=1,\n",
       "          param_distributions={'max_features': ['sqrt', 'log2'], 'min_samples_split': <scipy.stats._distn_infrastructure.rv_frozen object at 0x1270357b8>, 'max_depth': <scipy.stats._distn_infrastructure.rv_frozen object at 0x127035a58>, 'min_samples_leaf': [1, 20, 0.01, 0.001]},\n",
       "          pre_dispatch='2*n_jobs', random_state=None, refit=True,\n",
       "          return_train_score=True, scoring=None, verbose=0)"
      ]
     },
     "execution_count": 562,
     "metadata": {},
     "output_type": "execute_result"
    }
   ],
   "source": [
    "clf.fit(X, labels)"
   ]
  },
  {
   "cell_type": "code",
   "execution_count": 563,
   "metadata": {
    "ExecuteTime": {
     "end_time": "2017-09-24T16:36:17.787640Z",
     "start_time": "2017-09-24T16:36:17.448210Z"
    }
   },
   "outputs": [],
   "source": [
    "top_feats = go_annotate(get_top_features(clf, vectorizer))"
   ]
  },
  {
   "cell_type": "code",
   "execution_count": 564,
   "metadata": {
    "ExecuteTime": {
     "end_time": "2017-09-24T16:36:17.840827Z",
     "start_time": "2017-09-24T16:36:17.790052Z"
    },
    "scrolled": true
   },
   "outputs": [
    {
     "data": {
      "text/html": [
       "<div>\n",
       "<style>\n",
       "    .dataframe thead tr:only-child th {\n",
       "        text-align: right;\n",
       "    }\n",
       "\n",
       "    .dataframe thead th {\n",
       "        text-align: left;\n",
       "    }\n",
       "\n",
       "    .dataframe tbody tr th {\n",
       "        vertical-align: top;\n",
       "    }\n",
       "</style>\n",
       "<table border=\"1\" class=\"dataframe\">\n",
       "  <thead>\n",
       "    <tr style=\"text-align: right;\">\n",
       "      <th></th>\n",
       "      <th>importance</th>\n",
       "      <th>namespace</th>\n",
       "      <th>name</th>\n",
       "    </tr>\n",
       "  </thead>\n",
       "  <tbody>\n",
       "    <tr>\n",
       "      <th>GO:0005515</th>\n",
       "      <td>0.021319</td>\n",
       "      <td>molecular_function</td>\n",
       "      <td>protein binding</td>\n",
       "    </tr>\n",
       "    <tr>\n",
       "      <th>GO:0005634</th>\n",
       "      <td>0.020277</td>\n",
       "      <td>cellular_component</td>\n",
       "      <td>nucleus</td>\n",
       "    </tr>\n",
       "    <tr>\n",
       "      <th>GO:0005654</th>\n",
       "      <td>0.011977</td>\n",
       "      <td>cellular_component</td>\n",
       "      <td>nucleoplasm</td>\n",
       "    </tr>\n",
       "    <tr>\n",
       "      <th>GO:0004674</th>\n",
       "      <td>0.011087</td>\n",
       "      <td>molecular_function</td>\n",
       "      <td>protein serine/threonine kinase activity</td>\n",
       "    </tr>\n",
       "    <tr>\n",
       "      <th>GO:0008285</th>\n",
       "      <td>0.008774</td>\n",
       "      <td>biological_process</td>\n",
       "      <td>negative regulation of cell proliferation</td>\n",
       "    </tr>\n",
       "    <tr>\n",
       "      <th>GO:0006977</th>\n",
       "      <td>0.006933</td>\n",
       "      <td>biological_process</td>\n",
       "      <td>DNA damage response, signal transduction by p53 class mediator resulting in ...</td>\n",
       "    </tr>\n",
       "    <tr>\n",
       "      <th>GO:0000122</th>\n",
       "      <td>0.005896</td>\n",
       "      <td>biological_process</td>\n",
       "      <td>negative regulation of transcription from RNA polymerase II promoter</td>\n",
       "    </tr>\n",
       "    <tr>\n",
       "      <th>GO:0002039</th>\n",
       "      <td>0.005693</td>\n",
       "      <td>molecular_function</td>\n",
       "      <td>p53 binding</td>\n",
       "    </tr>\n",
       "    <tr>\n",
       "      <th>GO:0043066</th>\n",
       "      <td>0.005457</td>\n",
       "      <td>biological_process</td>\n",
       "      <td>negative regulation of apoptotic process</td>\n",
       "    </tr>\n",
       "    <tr>\n",
       "      <th>GO:0051301</th>\n",
       "      <td>0.005450</td>\n",
       "      <td>biological_process</td>\n",
       "      <td>cell division</td>\n",
       "    </tr>\n",
       "    <tr>\n",
       "      <th>GO:0005524</th>\n",
       "      <td>0.005300</td>\n",
       "      <td>molecular_function</td>\n",
       "      <td>ATP binding</td>\n",
       "    </tr>\n",
       "    <tr>\n",
       "      <th>GO:0045893</th>\n",
       "      <td>0.005210</td>\n",
       "      <td>biological_process</td>\n",
       "      <td>positive regulation of transcription, DNA-templated</td>\n",
       "    </tr>\n",
       "    <tr>\n",
       "      <th>GO:0000165</th>\n",
       "      <td>0.005200</td>\n",
       "      <td>biological_process</td>\n",
       "      <td>MAPK cascade</td>\n",
       "    </tr>\n",
       "    <tr>\n",
       "      <th>GO:0008134</th>\n",
       "      <td>0.005065</td>\n",
       "      <td>molecular_function</td>\n",
       "      <td>transcription factor binding</td>\n",
       "    </tr>\n",
       "    <tr>\n",
       "      <th>GO:0042326</th>\n",
       "      <td>0.005025</td>\n",
       "      <td>biological_process</td>\n",
       "      <td>negative regulation of phosphorylation</td>\n",
       "    </tr>\n",
       "    <tr>\n",
       "      <th>GO:0005737</th>\n",
       "      <td>0.004736</td>\n",
       "      <td>cellular_component</td>\n",
       "      <td>cytoplasm</td>\n",
       "    </tr>\n",
       "    <tr>\n",
       "      <th>GO:0090399</th>\n",
       "      <td>0.004551</td>\n",
       "      <td>biological_process</td>\n",
       "      <td>replicative senescence</td>\n",
       "    </tr>\n",
       "    <tr>\n",
       "      <th>GO:0050911</th>\n",
       "      <td>0.004436</td>\n",
       "      <td>biological_process</td>\n",
       "      <td>detection of chemical stimulus involved in sensory perception of smell</td>\n",
       "    </tr>\n",
       "    <tr>\n",
       "      <th>GO:0006357</th>\n",
       "      <td>0.004433</td>\n",
       "      <td>biological_process</td>\n",
       "      <td>regulation of transcription from RNA polymerase II promoter</td>\n",
       "    </tr>\n",
       "    <tr>\n",
       "      <th>GO:0007623</th>\n",
       "      <td>0.004432</td>\n",
       "      <td>biological_process</td>\n",
       "      <td>circadian rhythm</td>\n",
       "    </tr>\n",
       "    <tr>\n",
       "      <th>GO:0007165</th>\n",
       "      <td>0.004317</td>\n",
       "      <td>biological_process</td>\n",
       "      <td>signal transduction</td>\n",
       "    </tr>\n",
       "    <tr>\n",
       "      <th>GO:0042826</th>\n",
       "      <td>0.004130</td>\n",
       "      <td>molecular_function</td>\n",
       "      <td>histone deacetylase binding</td>\n",
       "    </tr>\n",
       "    <tr>\n",
       "      <th>GO:0044212</th>\n",
       "      <td>0.004058</td>\n",
       "      <td>molecular_function</td>\n",
       "      <td>transcription regulatory region DNA binding</td>\n",
       "    </tr>\n",
       "    <tr>\n",
       "      <th>GO:0032355</th>\n",
       "      <td>0.004035</td>\n",
       "      <td>biological_process</td>\n",
       "      <td>response to estradiol</td>\n",
       "    </tr>\n",
       "    <tr>\n",
       "      <th>GO:0019901</th>\n",
       "      <td>0.003886</td>\n",
       "      <td>molecular_function</td>\n",
       "      <td>protein kinase binding</td>\n",
       "    </tr>\n",
       "    <tr>\n",
       "      <th>GO:1901796</th>\n",
       "      <td>0.003873</td>\n",
       "      <td>biological_process</td>\n",
       "      <td>regulation of signal transduction by p53 class mediator</td>\n",
       "    </tr>\n",
       "    <tr>\n",
       "      <th>GO:0045944</th>\n",
       "      <td>0.003786</td>\n",
       "      <td>biological_process</td>\n",
       "      <td>positive regulation of transcription from RNA polymerase II promoter</td>\n",
       "    </tr>\n",
       "    <tr>\n",
       "      <th>GO:0016580</th>\n",
       "      <td>0.003784</td>\n",
       "      <td>cellular_component</td>\n",
       "      <td>Sin3 complex</td>\n",
       "    </tr>\n",
       "    <tr>\n",
       "      <th>GO:0005813</th>\n",
       "      <td>0.003732</td>\n",
       "      <td>cellular_component</td>\n",
       "      <td>centrosome</td>\n",
       "    </tr>\n",
       "    <tr>\n",
       "      <th>GO:0003682</th>\n",
       "      <td>0.003714</td>\n",
       "      <td>molecular_function</td>\n",
       "      <td>chromatin binding</td>\n",
       "    </tr>\n",
       "    <tr>\n",
       "      <th>GO:0003677</th>\n",
       "      <td>0.003540</td>\n",
       "      <td>molecular_function</td>\n",
       "      <td>DNA binding</td>\n",
       "    </tr>\n",
       "    <tr>\n",
       "      <th>GO:1900182</th>\n",
       "      <td>0.003528</td>\n",
       "      <td>biological_process</td>\n",
       "      <td>positive regulation of protein localization to nucleus</td>\n",
       "    </tr>\n",
       "    <tr>\n",
       "      <th>GO:0034613</th>\n",
       "      <td>0.003421</td>\n",
       "      <td>biological_process</td>\n",
       "      <td>cellular protein localization</td>\n",
       "    </tr>\n",
       "    <tr>\n",
       "      <th>GO:0006366</th>\n",
       "      <td>0.003166</td>\n",
       "      <td>biological_process</td>\n",
       "      <td>transcription from RNA polymerase II promoter</td>\n",
       "    </tr>\n",
       "    <tr>\n",
       "      <th>GO:0016569</th>\n",
       "      <td>0.003147</td>\n",
       "      <td>biological_process</td>\n",
       "      <td>covalent chromatin modification</td>\n",
       "    </tr>\n",
       "    <tr>\n",
       "      <th>GO:0000082</th>\n",
       "      <td>0.003126</td>\n",
       "      <td>biological_process</td>\n",
       "      <td>G1/S transition of mitotic cell cycle</td>\n",
       "    </tr>\n",
       "    <tr>\n",
       "      <th>GO:0071222</th>\n",
       "      <td>0.003089</td>\n",
       "      <td>biological_process</td>\n",
       "      <td>cellular response to lipopolysaccharide</td>\n",
       "    </tr>\n",
       "    <tr>\n",
       "      <th>GO:0001649</th>\n",
       "      <td>0.002981</td>\n",
       "      <td>biological_process</td>\n",
       "      <td>osteoblast differentiation</td>\n",
       "    </tr>\n",
       "    <tr>\n",
       "      <th>GO:0030878</th>\n",
       "      <td>0.002973</td>\n",
       "      <td>biological_process</td>\n",
       "      <td>thyroid gland development</td>\n",
       "    </tr>\n",
       "    <tr>\n",
       "      <th>GO:0001077</th>\n",
       "      <td>0.002970</td>\n",
       "      <td>molecular_function</td>\n",
       "      <td>transcriptional activator activity, RNA polymerase II core promoter proximal...</td>\n",
       "    </tr>\n",
       "    <tr>\n",
       "      <th>GO:0038111</th>\n",
       "      <td>0.002944</td>\n",
       "      <td>biological_process</td>\n",
       "      <td>interleukin-7-mediated signaling pathway</td>\n",
       "    </tr>\n",
       "    <tr>\n",
       "      <th>GO:0001934</th>\n",
       "      <td>0.002901</td>\n",
       "      <td>biological_process</td>\n",
       "      <td>positive regulation of protein phosphorylation</td>\n",
       "    </tr>\n",
       "    <tr>\n",
       "      <th>GO:0007568</th>\n",
       "      <td>0.002899</td>\n",
       "      <td>biological_process</td>\n",
       "      <td>aging</td>\n",
       "    </tr>\n",
       "    <tr>\n",
       "      <th>GO:0006284</th>\n",
       "      <td>0.002895</td>\n",
       "      <td>biological_process</td>\n",
       "      <td>base-excision repair</td>\n",
       "    </tr>\n",
       "    <tr>\n",
       "      <th>GO:0003714</th>\n",
       "      <td>0.002886</td>\n",
       "      <td>molecular_function</td>\n",
       "      <td>transcription corepressor activity</td>\n",
       "    </tr>\n",
       "    <tr>\n",
       "      <th>GO:0000977</th>\n",
       "      <td>0.002863</td>\n",
       "      <td>molecular_function</td>\n",
       "      <td>RNA polymerase II regulatory region sequence-specific DNA binding</td>\n",
       "    </tr>\n",
       "    <tr>\n",
       "      <th>GO:0070301</th>\n",
       "      <td>0.002854</td>\n",
       "      <td>biological_process</td>\n",
       "      <td>cellular response to hydrogen peroxide</td>\n",
       "    </tr>\n",
       "    <tr>\n",
       "      <th>GO:0007346</th>\n",
       "      <td>0.002795</td>\n",
       "      <td>biological_process</td>\n",
       "      <td>regulation of mitotic cell cycle</td>\n",
       "    </tr>\n",
       "    <tr>\n",
       "      <th>GO:0070491</th>\n",
       "      <td>0.002767</td>\n",
       "      <td>molecular_function</td>\n",
       "      <td>repressing transcription factor binding</td>\n",
       "    </tr>\n",
       "    <tr>\n",
       "      <th>GO:0045444</th>\n",
       "      <td>0.002735</td>\n",
       "      <td>biological_process</td>\n",
       "      <td>fat cell differentiation</td>\n",
       "    </tr>\n",
       "  </tbody>\n",
       "</table>\n",
       "</div>"
      ],
      "text/plain": [
       "            importance           namespace  \\\n",
       "GO:0005515    0.021319  molecular_function   \n",
       "GO:0005634    0.020277  cellular_component   \n",
       "GO:0005654    0.011977  cellular_component   \n",
       "GO:0004674    0.011087  molecular_function   \n",
       "GO:0008285    0.008774  biological_process   \n",
       "GO:0006977    0.006933  biological_process   \n",
       "GO:0000122    0.005896  biological_process   \n",
       "GO:0002039    0.005693  molecular_function   \n",
       "GO:0043066    0.005457  biological_process   \n",
       "GO:0051301    0.005450  biological_process   \n",
       "GO:0005524    0.005300  molecular_function   \n",
       "GO:0045893    0.005210  biological_process   \n",
       "GO:0000165    0.005200  biological_process   \n",
       "GO:0008134    0.005065  molecular_function   \n",
       "GO:0042326    0.005025  biological_process   \n",
       "GO:0005737    0.004736  cellular_component   \n",
       "GO:0090399    0.004551  biological_process   \n",
       "GO:0050911    0.004436  biological_process   \n",
       "GO:0006357    0.004433  biological_process   \n",
       "GO:0007623    0.004432  biological_process   \n",
       "GO:0007165    0.004317  biological_process   \n",
       "GO:0042826    0.004130  molecular_function   \n",
       "GO:0044212    0.004058  molecular_function   \n",
       "GO:0032355    0.004035  biological_process   \n",
       "GO:0019901    0.003886  molecular_function   \n",
       "GO:1901796    0.003873  biological_process   \n",
       "GO:0045944    0.003786  biological_process   \n",
       "GO:0016580    0.003784  cellular_component   \n",
       "GO:0005813    0.003732  cellular_component   \n",
       "GO:0003682    0.003714  molecular_function   \n",
       "GO:0003677    0.003540  molecular_function   \n",
       "GO:1900182    0.003528  biological_process   \n",
       "GO:0034613    0.003421  biological_process   \n",
       "GO:0006366    0.003166  biological_process   \n",
       "GO:0016569    0.003147  biological_process   \n",
       "GO:0000082    0.003126  biological_process   \n",
       "GO:0071222    0.003089  biological_process   \n",
       "GO:0001649    0.002981  biological_process   \n",
       "GO:0030878    0.002973  biological_process   \n",
       "GO:0001077    0.002970  molecular_function   \n",
       "GO:0038111    0.002944  biological_process   \n",
       "GO:0001934    0.002901  biological_process   \n",
       "GO:0007568    0.002899  biological_process   \n",
       "GO:0006284    0.002895  biological_process   \n",
       "GO:0003714    0.002886  molecular_function   \n",
       "GO:0000977    0.002863  molecular_function   \n",
       "GO:0070301    0.002854  biological_process   \n",
       "GO:0007346    0.002795  biological_process   \n",
       "GO:0070491    0.002767  molecular_function   \n",
       "GO:0045444    0.002735  biological_process   \n",
       "\n",
       "                                                                                       name  \n",
       "GO:0005515                                                                  protein binding  \n",
       "GO:0005634                                                                          nucleus  \n",
       "GO:0005654                                                                      nucleoplasm  \n",
       "GO:0004674                                         protein serine/threonine kinase activity  \n",
       "GO:0008285                                        negative regulation of cell proliferation  \n",
       "GO:0006977  DNA damage response, signal transduction by p53 class mediator resulting in ...  \n",
       "GO:0000122             negative regulation of transcription from RNA polymerase II promoter  \n",
       "GO:0002039                                                                      p53 binding  \n",
       "GO:0043066                                         negative regulation of apoptotic process  \n",
       "GO:0051301                                                                    cell division  \n",
       "GO:0005524                                                                      ATP binding  \n",
       "GO:0045893                              positive regulation of transcription, DNA-templated  \n",
       "GO:0000165                                                                     MAPK cascade  \n",
       "GO:0008134                                                     transcription factor binding  \n",
       "GO:0042326                                           negative regulation of phosphorylation  \n",
       "GO:0005737                                                                        cytoplasm  \n",
       "GO:0090399                                                           replicative senescence  \n",
       "GO:0050911           detection of chemical stimulus involved in sensory perception of smell  \n",
       "GO:0006357                      regulation of transcription from RNA polymerase II promoter  \n",
       "GO:0007623                                                                 circadian rhythm  \n",
       "GO:0007165                                                              signal transduction  \n",
       "GO:0042826                                                      histone deacetylase binding  \n",
       "GO:0044212                                      transcription regulatory region DNA binding  \n",
       "GO:0032355                                                            response to estradiol  \n",
       "GO:0019901                                                           protein kinase binding  \n",
       "GO:1901796                          regulation of signal transduction by p53 class mediator  \n",
       "GO:0045944             positive regulation of transcription from RNA polymerase II promoter  \n",
       "GO:0016580                                                                     Sin3 complex  \n",
       "GO:0005813                                                                       centrosome  \n",
       "GO:0003682                                                                chromatin binding  \n",
       "GO:0003677                                                                      DNA binding  \n",
       "GO:1900182                           positive regulation of protein localization to nucleus  \n",
       "GO:0034613                                                    cellular protein localization  \n",
       "GO:0006366                                    transcription from RNA polymerase II promoter  \n",
       "GO:0016569                                                  covalent chromatin modification  \n",
       "GO:0000082                                            G1/S transition of mitotic cell cycle  \n",
       "GO:0071222                                          cellular response to lipopolysaccharide  \n",
       "GO:0001649                                                       osteoblast differentiation  \n",
       "GO:0030878                                                        thyroid gland development  \n",
       "GO:0001077  transcriptional activator activity, RNA polymerase II core promoter proximal...  \n",
       "GO:0038111                                         interleukin-7-mediated signaling pathway  \n",
       "GO:0001934                                   positive regulation of protein phosphorylation  \n",
       "GO:0007568                                                                            aging  \n",
       "GO:0006284                                                             base-excision repair  \n",
       "GO:0003714                                               transcription corepressor activity  \n",
       "GO:0000977                RNA polymerase II regulatory region sequence-specific DNA binding  \n",
       "GO:0070301                                           cellular response to hydrogen peroxide  \n",
       "GO:0007346                                                 regulation of mitotic cell cycle  \n",
       "GO:0070491                                          repressing transcription factor binding  \n",
       "GO:0045444                                                         fat cell differentiation  "
      ]
     },
     "execution_count": 564,
     "metadata": {},
     "output_type": "execute_result"
    }
   ],
   "source": [
    "top_feats[:50]"
   ]
  },
  {
   "cell_type": "markdown",
   "metadata": {},
   "source": [
    "# Make Pro- vs. Anti- Senescense classifier"
   ]
  },
  {
   "cell_type": "markdown",
   "metadata": {},
   "source": [
    "## Make dataset"
   ]
  },
  {
   "cell_type": "code",
   "execution_count": 39,
   "metadata": {
    "ExecuteTime": {
     "end_time": "2017-09-25T00:28:27.391248Z",
     "start_time": "2017-09-25T00:28:27.356534Z"
    }
   },
   "outputs": [],
   "source": [
    "gene_ids_df = pd.DataFrame(gene_ids, columns=['entrez_id'])"
   ]
  },
  {
   "cell_type": "code",
   "execution_count": 40,
   "metadata": {
    "ExecuteTime": {
     "end_time": "2017-09-25T00:28:27.874463Z",
     "start_time": "2017-09-25T00:28:27.816566Z"
    }
   },
   "outputs": [],
   "source": [
    "gene_ids_df = gene_ids_df.merge(cellage_df, on='entrez_id', how='left')"
   ]
  },
  {
   "cell_type": "code",
   "execution_count": 41,
   "metadata": {
    "ExecuteTime": {
     "end_time": "2017-09-25T00:28:28.278429Z",
     "start_time": "2017-09-25T00:28:28.249492Z"
    }
   },
   "outputs": [],
   "source": [
    "cellage_indices = gene_ids_df[gene_ids_df.senescence_effect.isin(['Promotes', 'Inhibits'])].index"
   ]
  },
  {
   "cell_type": "code",
   "execution_count": 42,
   "metadata": {
    "ExecuteTime": {
     "end_time": "2017-09-25T00:28:28.674992Z",
     "start_time": "2017-09-25T00:28:28.649145Z"
    }
   },
   "outputs": [
    {
     "data": {
      "text/plain": [
       "Int64Index([   34,   128,   142,   163,   170,   263,   320,   329,   385,\n",
       "              409,\n",
       "            ...\n",
       "            13650, 13922, 14899, 15618, 15639, 16274, 16408, 16778, 16796,\n",
       "            16912],\n",
       "           dtype='int64', length=272)"
      ]
     },
     "execution_count": 42,
     "metadata": {},
     "output_type": "execute_result"
    }
   ],
   "source": [
    "cellage_indices"
   ]
  },
  {
   "cell_type": "code",
   "execution_count": 43,
   "metadata": {
    "ExecuteTime": {
     "end_time": "2017-09-25T00:28:29.151757Z",
     "start_time": "2017-09-25T00:28:29.123958Z"
    }
   },
   "outputs": [],
   "source": [
    "labels_sene = gene_ids_df.loc[cellage_indices, 'senescence_effect'] == 'Promotes'"
   ]
  },
  {
   "cell_type": "code",
   "execution_count": 44,
   "metadata": {
    "ExecuteTime": {
     "end_time": "2017-09-25T00:28:29.847293Z",
     "start_time": "2017-09-25T00:28:29.720105Z"
    }
   },
   "outputs": [],
   "source": [
    "rows = []\n",
    "for idx in cellage_indices:\n",
    "    rows.append(X.getrow(idx).todense())"
   ]
  },
  {
   "cell_type": "code",
   "execution_count": 45,
   "metadata": {
    "ExecuteTime": {
     "end_time": "2017-09-25T00:28:30.375068Z",
     "start_time": "2017-09-25T00:28:30.269785Z"
    }
   },
   "outputs": [],
   "source": [
    "X_sene = np.vstack(rows)"
   ]
  },
  {
   "cell_type": "code",
   "execution_count": 46,
   "metadata": {
    "ExecuteTime": {
     "end_time": "2017-09-25T00:28:30.880946Z",
     "start_time": "2017-09-25T00:28:30.855492Z"
    }
   },
   "outputs": [
    {
     "data": {
      "text/plain": [
       "(272, 17506)"
      ]
     },
     "execution_count": 46,
     "metadata": {},
     "output_type": "execute_result"
    }
   ],
   "source": [
    "X_sene.shape"
   ]
  },
  {
   "cell_type": "markdown",
   "metadata": {},
   "source": [
    "### ElasticNet\n",
    "\n",
    "Use strong regularization to deal with so many parameters"
   ]
  },
  {
   "cell_type": "code",
   "execution_count": 47,
   "metadata": {
    "ExecuteTime": {
     "end_time": "2017-09-25T00:28:31.677274Z",
     "start_time": "2017-09-25T00:28:31.653376Z"
    }
   },
   "outputs": [],
   "source": [
    "import sklearn.linear_model"
   ]
  },
  {
   "cell_type": "code",
   "execution_count": 48,
   "metadata": {
    "ExecuteTime": {
     "end_time": "2017-09-25T00:28:32.173416Z",
     "start_time": "2017-09-25T00:28:32.150273Z"
    }
   },
   "outputs": [],
   "source": [
    "#base_clf = sklearn.linear_model.SGDClassifier(\n",
    "#    loss='log', penalty='elasticnet', l1_ratio=0.15, class_weight='balanced', max_iter=100\n",
    "#)"
   ]
  },
  {
   "cell_type": "code",
   "execution_count": 49,
   "metadata": {
    "ExecuteTime": {
     "end_time": "2017-09-25T00:28:32.541799Z",
     "start_time": "2017-09-25T00:28:32.519482Z"
    }
   },
   "outputs": [],
   "source": [
    "#clf = RandomizedSearchCV(base_clf, param_distributions={'alpha':[2**i for i in range(-16, 1)]})"
   ]
  },
  {
   "cell_type": "code",
   "execution_count": 178,
   "metadata": {
    "ExecuteTime": {
     "end_time": "2017-09-28T15:35:41.457693Z",
     "start_time": "2017-09-28T15:35:41.428797Z"
    }
   },
   "outputs": [],
   "source": [
    "clf = sklearn.linear_model.SGDClassifier(\n",
    "    loss='log', penalty='elasticnet', l1_ratio=0.15,\n",
    "    class_weight='balanced', max_iter=100, alpha=0.01\n",
    ") "
   ]
  },
  {
   "cell_type": "code",
   "execution_count": 51,
   "metadata": {
    "ExecuteTime": {
     "end_time": "2017-09-25T00:28:37.305797Z",
     "start_time": "2017-09-25T00:28:34.287919Z"
    }
   },
   "outputs": [
    {
     "data": {
      "text/plain": [
       "SGDClassifier(alpha=0.01, average=False, class_weight='balanced', epsilon=0.1,\n",
       "       eta0=0.0, fit_intercept=True, l1_ratio=0.15,\n",
       "       learning_rate='optimal', loss='log', max_iter=100, n_iter=None,\n",
       "       n_jobs=1, penalty='elasticnet', power_t=0.5, random_state=None,\n",
       "       shuffle=True, tol=None, verbose=0, warm_start=False)"
      ]
     },
     "execution_count": 51,
     "metadata": {},
     "output_type": "execute_result"
    }
   ],
   "source": [
    "clf.fit(X_sene, labels_sene)"
   ]
  },
  {
   "cell_type": "code",
   "execution_count": 58,
   "metadata": {
    "ExecuteTime": {
     "end_time": "2017-09-25T00:29:24.108177Z",
     "start_time": "2017-09-25T00:29:02.906851Z"
    }
   },
   "outputs": [],
   "source": [
    "label_preds = cross_val_predict(clf, X_sene, labels_sene, cv=10, method='predict_proba', n_jobs=-1)"
   ]
  },
  {
   "cell_type": "code",
   "execution_count": 59,
   "metadata": {
    "ExecuteTime": {
     "end_time": "2017-09-25T00:29:24.607511Z",
     "start_time": "2017-09-25T00:29:24.116049Z"
    }
   },
   "outputs": [
    {
     "name": "stdout",
     "output_type": "stream",
     "text": [
      "Confusion Matrix\n"
     ]
    },
    {
     "data": {
      "text/html": [
       "<div>\n",
       "<style>\n",
       "    .dataframe thead tr:only-child th {\n",
       "        text-align: right;\n",
       "    }\n",
       "\n",
       "    .dataframe thead th {\n",
       "        text-align: left;\n",
       "    }\n",
       "\n",
       "    .dataframe tbody tr th {\n",
       "        vertical-align: top;\n",
       "    }\n",
       "</style>\n",
       "<table border=\"1\" class=\"dataframe\">\n",
       "  <thead>\n",
       "    <tr style=\"text-align: right;\">\n",
       "      <th></th>\n",
       "      <th>Anti</th>\n",
       "      <th>Pro</th>\n",
       "    </tr>\n",
       "  </thead>\n",
       "  <tbody>\n",
       "    <tr>\n",
       "      <th>Anti</th>\n",
       "      <td>69</td>\n",
       "      <td>51</td>\n",
       "    </tr>\n",
       "    <tr>\n",
       "      <th>Pro</th>\n",
       "      <td>48</td>\n",
       "      <td>104</td>\n",
       "    </tr>\n",
       "  </tbody>\n",
       "</table>\n",
       "</div>"
      ],
      "text/plain": [
       "      Anti  Pro\n",
       "Anti    69   51\n",
       "Pro     48  104"
      ]
     },
     "metadata": {},
     "output_type": "display_data"
    },
    {
     "name": "stdout",
     "output_type": "stream",
     "text": [
      "\n",
      "Classification Report\n"
     ]
    },
    {
     "data": {
      "text/html": [
       "<div>\n",
       "<style>\n",
       "    .dataframe thead tr:only-child th {\n",
       "        text-align: right;\n",
       "    }\n",
       "\n",
       "    .dataframe thead th {\n",
       "        text-align: left;\n",
       "    }\n",
       "\n",
       "    .dataframe tbody tr th {\n",
       "        vertical-align: top;\n",
       "    }\n",
       "</style>\n",
       "<table border=\"1\" class=\"dataframe\">\n",
       "  <thead>\n",
       "    <tr style=\"text-align: right;\">\n",
       "      <th></th>\n",
       "      <th>Precision</th>\n",
       "      <th>Recall</th>\n",
       "      <th>F-Score</th>\n",
       "      <th>Support</th>\n",
       "    </tr>\n",
       "  </thead>\n",
       "  <tbody>\n",
       "    <tr>\n",
       "      <th>Anti</th>\n",
       "      <td>0.589744</td>\n",
       "      <td>0.575000</td>\n",
       "      <td>0.582278</td>\n",
       "      <td>120.0</td>\n",
       "    </tr>\n",
       "    <tr>\n",
       "      <th>Pro</th>\n",
       "      <td>0.670968</td>\n",
       "      <td>0.684211</td>\n",
       "      <td>0.677524</td>\n",
       "      <td>152.0</td>\n",
       "    </tr>\n",
       "  </tbody>\n",
       "</table>\n",
       "</div>"
      ],
      "text/plain": [
       "      Precision    Recall   F-Score  Support\n",
       "Anti   0.589744  0.575000  0.582278    120.0\n",
       "Pro    0.670968  0.684211  0.677524    152.0"
      ]
     },
     "metadata": {},
     "output_type": "display_data"
    },
    {
     "data": {
      "image/png": "[encoded data removed]",
      "text/plain": [
       "<matplotlib.figure.Figure at 0x117dbff98>"
      ]
     },
     "metadata": {},
     "output_type": "display_data"
    }
   ],
   "source": [
    "show_classifier_performance(labels_sene, label_preds, names=['Anti', 'Pro'])"
   ]
  },
  {
   "cell_type": "code",
   "execution_count": 179,
   "metadata": {
    "ExecuteTime": {
     "end_time": "2017-09-28T15:35:58.072345Z",
     "start_time": "2017-09-28T15:35:54.871292Z"
    },
    "scrolled": false
   },
   "outputs": [
    {
     "data": {
      "text/plain": [
       "SGDClassifier(alpha=0.01, average=False, class_weight='balanced', epsilon=0.1,\n",
       "       eta0=0.0, fit_intercept=True, l1_ratio=0.15,\n",
       "       learning_rate='optimal', loss='log', max_iter=100, n_iter=None,\n",
       "       n_jobs=1, penalty='elasticnet', power_t=0.5, random_state=None,\n",
       "       shuffle=True, tol=None, verbose=0, warm_start=False)"
      ]
     },
     "execution_count": 179,
     "metadata": {},
     "output_type": "execute_result"
    }
   ],
   "source": [
    "clf.fit(X_sene, labels_sene)"
   ]
  },
  {
   "cell_type": "code",
   "execution_count": 61,
   "metadata": {
    "ExecuteTime": {
     "end_time": "2017-09-25T00:29:42.139571Z",
     "start_time": "2017-09-25T00:29:42.013073Z"
    }
   },
   "outputs": [],
   "source": [
    "top_feats = go_annotate(get_top_features(clf, vectorizer))"
   ]
  },
  {
   "cell_type": "code",
   "execution_count": 62,
   "metadata": {
    "ExecuteTime": {
     "end_time": "2017-09-25T00:29:42.677616Z",
     "start_time": "2017-09-25T00:29:42.635243Z"
    },
    "scrolled": false
   },
   "outputs": [
    {
     "data": {
      "text/html": [
       "<div>\n",
       "<style>\n",
       "    .dataframe thead tr:only-child th {\n",
       "        text-align: right;\n",
       "    }\n",
       "\n",
       "    .dataframe thead th {\n",
       "        text-align: left;\n",
       "    }\n",
       "\n",
       "    .dataframe tbody tr th {\n",
       "        vertical-align: top;\n",
       "    }\n",
       "</style>\n",
       "<table border=\"1\" class=\"dataframe\">\n",
       "  <thead>\n",
       "    <tr style=\"text-align: right;\">\n",
       "      <th></th>\n",
       "      <th>importance</th>\n",
       "      <th>namespace</th>\n",
       "      <th>name</th>\n",
       "    </tr>\n",
       "  </thead>\n",
       "  <tbody>\n",
       "    <tr>\n",
       "      <th>GO:0016020</th>\n",
       "      <td>-0.851689</td>\n",
       "      <td>CC</td>\n",
       "      <td>membrane</td>\n",
       "    </tr>\n",
       "    <tr>\n",
       "      <th>GO:0005654</th>\n",
       "      <td>-0.770552</td>\n",
       "      <td>CC</td>\n",
       "      <td>nucleoplasm</td>\n",
       "    </tr>\n",
       "    <tr>\n",
       "      <th>GO:0005524</th>\n",
       "      <td>0.659829</td>\n",
       "      <td>MF</td>\n",
       "      <td>ATP binding</td>\n",
       "    </tr>\n",
       "    <tr>\n",
       "      <th>GO:0051301</th>\n",
       "      <td>-0.658073</td>\n",
       "      <td>BP</td>\n",
       "      <td>cell division</td>\n",
       "    </tr>\n",
       "    <tr>\n",
       "      <th>GO:0008285</th>\n",
       "      <td>0.526409</td>\n",
       "      <td>BP</td>\n",
       "      <td>negative regulation of cell proliferation</td>\n",
       "    </tr>\n",
       "    <tr>\n",
       "      <th>GO:0000139</th>\n",
       "      <td>0.457541</td>\n",
       "      <td>CC</td>\n",
       "      <td>Golgi membrane</td>\n",
       "    </tr>\n",
       "    <tr>\n",
       "      <th>GO:0006355</th>\n",
       "      <td>0.451376</td>\n",
       "      <td>BP</td>\n",
       "      <td>regulation of transcription, DNA-templated</td>\n",
       "    </tr>\n",
       "    <tr>\n",
       "      <th>GO:0016310</th>\n",
       "      <td>0.448670</td>\n",
       "      <td>BP</td>\n",
       "      <td>phosphorylation</td>\n",
       "    </tr>\n",
       "    <tr>\n",
       "      <th>GO:0003700</th>\n",
       "      <td>0.447218</td>\n",
       "      <td>MF</td>\n",
       "      <td>transcription factor activity, sequence-specific DNA binding</td>\n",
       "    </tr>\n",
       "    <tr>\n",
       "      <th>GO:0007265</th>\n",
       "      <td>0.435431</td>\n",
       "      <td>BP</td>\n",
       "      <td>Ras protein signal transduction</td>\n",
       "    </tr>\n",
       "    <tr>\n",
       "      <th>GO:0005622</th>\n",
       "      <td>0.402078</td>\n",
       "      <td>CC</td>\n",
       "      <td>intracellular</td>\n",
       "    </tr>\n",
       "    <tr>\n",
       "      <th>GO:0055114</th>\n",
       "      <td>-0.398245</td>\n",
       "      <td>BP</td>\n",
       "      <td>oxidation-reduction process</td>\n",
       "    </tr>\n",
       "    <tr>\n",
       "      <th>GO:0007050</th>\n",
       "      <td>0.396757</td>\n",
       "      <td>BP</td>\n",
       "      <td>cell cycle arrest</td>\n",
       "    </tr>\n",
       "    <tr>\n",
       "      <th>GO:0006950</th>\n",
       "      <td>-0.393269</td>\n",
       "      <td>BP</td>\n",
       "      <td>response to stress</td>\n",
       "    </tr>\n",
       "    <tr>\n",
       "      <th>GO:0001085</th>\n",
       "      <td>0.385389</td>\n",
       "      <td>MF</td>\n",
       "      <td>RNA polymerase II transcription factor binding</td>\n",
       "    </tr>\n",
       "    <tr>\n",
       "      <th>GO:0009314</th>\n",
       "      <td>-0.382655</td>\n",
       "      <td>BP</td>\n",
       "      <td>response to radiation</td>\n",
       "    </tr>\n",
       "    <tr>\n",
       "      <th>GO:0006936</th>\n",
       "      <td>-0.378022</td>\n",
       "      <td>BP</td>\n",
       "      <td>muscle contraction</td>\n",
       "    </tr>\n",
       "    <tr>\n",
       "      <th>GO:0003677</th>\n",
       "      <td>0.376780</td>\n",
       "      <td>MF</td>\n",
       "      <td>DNA binding</td>\n",
       "    </tr>\n",
       "    <tr>\n",
       "      <th>GO:0050790</th>\n",
       "      <td>-0.372019</td>\n",
       "      <td>BP</td>\n",
       "      <td>regulation of catalytic activity</td>\n",
       "    </tr>\n",
       "    <tr>\n",
       "      <th>GO:0016363</th>\n",
       "      <td>0.370372</td>\n",
       "      <td>CC</td>\n",
       "      <td>nuclear matrix</td>\n",
       "    </tr>\n",
       "    <tr>\n",
       "      <th>GO:0005737</th>\n",
       "      <td>0.363262</td>\n",
       "      <td>CC</td>\n",
       "      <td>cytoplasm</td>\n",
       "    </tr>\n",
       "    <tr>\n",
       "      <th>GO:0007186</th>\n",
       "      <td>0.362351</td>\n",
       "      <td>BP</td>\n",
       "      <td>G-protein coupled receptor signaling pathway</td>\n",
       "    </tr>\n",
       "    <tr>\n",
       "      <th>GO:0006508</th>\n",
       "      <td>-0.358778</td>\n",
       "      <td>BP</td>\n",
       "      <td>proteolysis</td>\n",
       "    </tr>\n",
       "    <tr>\n",
       "      <th>GO:0008284</th>\n",
       "      <td>-0.348350</td>\n",
       "      <td>BP</td>\n",
       "      <td>positive regulation of cell proliferation</td>\n",
       "    </tr>\n",
       "    <tr>\n",
       "      <th>GO:0006457</th>\n",
       "      <td>-0.345861</td>\n",
       "      <td>BP</td>\n",
       "      <td>protein folding</td>\n",
       "    </tr>\n",
       "    <tr>\n",
       "      <th>GO:0019901</th>\n",
       "      <td>0.343389</td>\n",
       "      <td>MF</td>\n",
       "      <td>protein kinase binding</td>\n",
       "    </tr>\n",
       "    <tr>\n",
       "      <th>GO:0042803</th>\n",
       "      <td>-0.343368</td>\n",
       "      <td>MF</td>\n",
       "      <td>protein homodimerization activity</td>\n",
       "    </tr>\n",
       "    <tr>\n",
       "      <th>GO:0005813</th>\n",
       "      <td>-0.341483</td>\n",
       "      <td>CC</td>\n",
       "      <td>centrosome</td>\n",
       "    </tr>\n",
       "    <tr>\n",
       "      <th>GO:0006468</th>\n",
       "      <td>0.336667</td>\n",
       "      <td>BP</td>\n",
       "      <td>protein phosphorylation</td>\n",
       "    </tr>\n",
       "    <tr>\n",
       "      <th>GO:0043234</th>\n",
       "      <td>0.333034</td>\n",
       "      <td>CC</td>\n",
       "      <td>protein complex</td>\n",
       "    </tr>\n",
       "    <tr>\n",
       "      <th>GO:0000086</th>\n",
       "      <td>-0.330245</td>\n",
       "      <td>BP</td>\n",
       "      <td>G2/M transition of mitotic cell cycle</td>\n",
       "    </tr>\n",
       "    <tr>\n",
       "      <th>GO:0045892</th>\n",
       "      <td>-0.327497</td>\n",
       "      <td>BP</td>\n",
       "      <td>negative regulation of transcription, DNA-templated</td>\n",
       "    </tr>\n",
       "    <tr>\n",
       "      <th>GO:0002039</th>\n",
       "      <td>0.327408</td>\n",
       "      <td>MF</td>\n",
       "      <td>p53 binding</td>\n",
       "    </tr>\n",
       "    <tr>\n",
       "      <th>GO:0000922</th>\n",
       "      <td>-0.312119</td>\n",
       "      <td>CC</td>\n",
       "      <td>spindle pole</td>\n",
       "    </tr>\n",
       "    <tr>\n",
       "      <th>GO:0005515</th>\n",
       "      <td>-0.308268</td>\n",
       "      <td>MF</td>\n",
       "      <td>protein binding</td>\n",
       "    </tr>\n",
       "    <tr>\n",
       "      <th>GO:0060337</th>\n",
       "      <td>0.307964</td>\n",
       "      <td>BP</td>\n",
       "      <td>type I interferon signaling pathway</td>\n",
       "    </tr>\n",
       "    <tr>\n",
       "      <th>GO:0048146</th>\n",
       "      <td>-0.298710</td>\n",
       "      <td>BP</td>\n",
       "      <td>positive regulation of fibroblast proliferation</td>\n",
       "    </tr>\n",
       "    <tr>\n",
       "      <th>GO:0006357</th>\n",
       "      <td>-0.297354</td>\n",
       "      <td>BP</td>\n",
       "      <td>regulation of transcription from RNA polymerase II promoter</td>\n",
       "    </tr>\n",
       "    <tr>\n",
       "      <th>GO:0034220</th>\n",
       "      <td>-0.295278</td>\n",
       "      <td>BP</td>\n",
       "      <td>ion transmembrane transport</td>\n",
       "    </tr>\n",
       "    <tr>\n",
       "      <th>GO:0043687</th>\n",
       "      <td>0.292479</td>\n",
       "      <td>BP</td>\n",
       "      <td>post-translational protein modification</td>\n",
       "    </tr>\n",
       "    <tr>\n",
       "      <th>GO:0046777</th>\n",
       "      <td>-0.291612</td>\n",
       "      <td>BP</td>\n",
       "      <td>protein autophosphorylation</td>\n",
       "    </tr>\n",
       "    <tr>\n",
       "      <th>GO:0045893</th>\n",
       "      <td>0.290134</td>\n",
       "      <td>BP</td>\n",
       "      <td>positive regulation of transcription, DNA-templated</td>\n",
       "    </tr>\n",
       "    <tr>\n",
       "      <th>GO:0006351</th>\n",
       "      <td>0.289748</td>\n",
       "      <td>BP</td>\n",
       "      <td>transcription, DNA-templated</td>\n",
       "    </tr>\n",
       "    <tr>\n",
       "      <th>GO:0031490</th>\n",
       "      <td>-0.287917</td>\n",
       "      <td>MF</td>\n",
       "      <td>chromatin DNA binding</td>\n",
       "    </tr>\n",
       "    <tr>\n",
       "      <th>GO:0007420</th>\n",
       "      <td>-0.285442</td>\n",
       "      <td>BP</td>\n",
       "      <td>brain development</td>\n",
       "    </tr>\n",
       "    <tr>\n",
       "      <th>GO:0004674</th>\n",
       "      <td>0.283053</td>\n",
       "      <td>MF</td>\n",
       "      <td>protein serine/threonine kinase activity</td>\n",
       "    </tr>\n",
       "    <tr>\n",
       "      <th>GO:0042981</th>\n",
       "      <td>-0.279535</td>\n",
       "      <td>BP</td>\n",
       "      <td>regulation of apoptotic process</td>\n",
       "    </tr>\n",
       "    <tr>\n",
       "      <th>GO:0051607</th>\n",
       "      <td>0.278614</td>\n",
       "      <td>BP</td>\n",
       "      <td>defense response to virus</td>\n",
       "    </tr>\n",
       "    <tr>\n",
       "      <th>GO:0045296</th>\n",
       "      <td>-0.273407</td>\n",
       "      <td>MF</td>\n",
       "      <td>cadherin binding</td>\n",
       "    </tr>\n",
       "    <tr>\n",
       "      <th>GO:0031648</th>\n",
       "      <td>-0.267268</td>\n",
       "      <td>BP</td>\n",
       "      <td>protein destabilization</td>\n",
       "    </tr>\n",
       "  </tbody>\n",
       "</table>\n",
       "</div>"
      ],
      "text/plain": [
       "            importance namespace  \\\n",
       "GO:0016020   -0.851689        CC   \n",
       "GO:0005654   -0.770552        CC   \n",
       "GO:0005524    0.659829        MF   \n",
       "GO:0051301   -0.658073        BP   \n",
       "GO:0008285    0.526409        BP   \n",
       "GO:0000139    0.457541        CC   \n",
       "GO:0006355    0.451376        BP   \n",
       "GO:0016310    0.448670        BP   \n",
       "GO:0003700    0.447218        MF   \n",
       "GO:0007265    0.435431        BP   \n",
       "GO:0005622    0.402078        CC   \n",
       "GO:0055114   -0.398245        BP   \n",
       "GO:0007050    0.396757        BP   \n",
       "GO:0006950   -0.393269        BP   \n",
       "GO:0001085    0.385389        MF   \n",
       "GO:0009314   -0.382655        BP   \n",
       "GO:0006936   -0.378022        BP   \n",
       "GO:0003677    0.376780        MF   \n",
       "GO:0050790   -0.372019        BP   \n",
       "GO:0016363    0.370372        CC   \n",
       "GO:0005737    0.363262        CC   \n",
       "GO:0007186    0.362351        BP   \n",
       "GO:0006508   -0.358778        BP   \n",
       "GO:0008284   -0.348350        BP   \n",
       "GO:0006457   -0.345861        BP   \n",
       "GO:0019901    0.343389        MF   \n",
       "GO:0042803   -0.343368        MF   \n",
       "GO:0005813   -0.341483        CC   \n",
       "GO:0006468    0.336667        BP   \n",
       "GO:0043234    0.333034        CC   \n",
       "GO:0000086   -0.330245        BP   \n",
       "GO:0045892   -0.327497        BP   \n",
       "GO:0002039    0.327408        MF   \n",
       "GO:0000922   -0.312119        CC   \n",
       "GO:0005515   -0.308268        MF   \n",
       "GO:0060337    0.307964        BP   \n",
       "GO:0048146   -0.298710        BP   \n",
       "GO:0006357   -0.297354        BP   \n",
       "GO:0034220   -0.295278        BP   \n",
       "GO:0043687    0.292479        BP   \n",
       "GO:0046777   -0.291612        BP   \n",
       "GO:0045893    0.290134        BP   \n",
       "GO:0006351    0.289748        BP   \n",
       "GO:0031490   -0.287917        MF   \n",
       "GO:0007420   -0.285442        BP   \n",
       "GO:0004674    0.283053        MF   \n",
       "GO:0042981   -0.279535        BP   \n",
       "GO:0051607    0.278614        BP   \n",
       "GO:0045296   -0.273407        MF   \n",
       "GO:0031648   -0.267268        BP   \n",
       "\n",
       "                                                                    name  \n",
       "GO:0016020                                                      membrane  \n",
       "GO:0005654                                                   nucleoplasm  \n",
       "GO:0005524                                                   ATP binding  \n",
       "GO:0051301                                                 cell division  \n",
       "GO:0008285                     negative regulation of cell proliferation  \n",
       "GO:0000139                                                Golgi membrane  \n",
       "GO:0006355                    regulation of transcription, DNA-templated  \n",
       "GO:0016310                                               phosphorylation  \n",
       "GO:0003700  transcription factor activity, sequence-specific DNA binding  \n",
       "GO:0007265                               Ras protein signal transduction  \n",
       "GO:0005622                                                 intracellular  \n",
       "GO:0055114                                   oxidation-reduction process  \n",
       "GO:0007050                                             cell cycle arrest  \n",
       "GO:0006950                                            response to stress  \n",
       "GO:0001085                RNA polymerase II transcription factor binding  \n",
       "GO:0009314                                         response to radiation  \n",
       "GO:0006936                                            muscle contraction  \n",
       "GO:0003677                                                   DNA binding  \n",
       "GO:0050790                              regulation of catalytic activity  \n",
       "GO:0016363                                                nuclear matrix  \n",
       "GO:0005737                                                     cytoplasm  \n",
       "GO:0007186                  G-protein coupled receptor signaling pathway  \n",
       "GO:0006508                                                   proteolysis  \n",
       "GO:0008284                     positive regulation of cell proliferation  \n",
       "GO:0006457                                               protein folding  \n",
       "GO:0019901                                        protein kinase binding  \n",
       "GO:0042803                             protein homodimerization activity  \n",
       "GO:0005813                                                    centrosome  \n",
       "GO:0006468                                       protein phosphorylation  \n",
       "GO:0043234                                               protein complex  \n",
       "GO:0000086                         G2/M transition of mitotic cell cycle  \n",
       "GO:0045892           negative regulation of transcription, DNA-templated  \n",
       "GO:0002039                                                   p53 binding  \n",
       "GO:0000922                                                  spindle pole  \n",
       "GO:0005515                                               protein binding  \n",
       "GO:0060337                           type I interferon signaling pathway  \n",
       "GO:0048146               positive regulation of fibroblast proliferation  \n",
       "GO:0006357   regulation of transcription from RNA polymerase II promoter  \n",
       "GO:0034220                                   ion transmembrane transport  \n",
       "GO:0043687                       post-translational protein modification  \n",
       "GO:0046777                                   protein autophosphorylation  \n",
       "GO:0045893           positive regulation of transcription, DNA-templated  \n",
       "GO:0006351                                  transcription, DNA-templated  \n",
       "GO:0031490                                         chromatin DNA binding  \n",
       "GO:0007420                                             brain development  \n",
       "GO:0004674                      protein serine/threonine kinase activity  \n",
       "GO:0042981                               regulation of apoptotic process  \n",
       "GO:0051607                                     defense response to virus  \n",
       "GO:0045296                                              cadherin binding  \n",
       "GO:0031648                                       protein destabilization  "
      ]
     },
     "execution_count": 62,
     "metadata": {},
     "output_type": "execute_result"
    }
   ],
   "source": [
    "top_feats[:50]"
   ]
  },
  {
   "cell_type": "code",
   "execution_count": 185,
   "metadata": {
    "ExecuteTime": {
     "end_time": "2017-09-28T15:39:39.818575Z",
     "start_time": "2017-09-28T15:39:39.790488Z"
    }
   },
   "outputs": [],
   "source": [
    "pro_senes_preds = clf.predict_proba(X)[:, 1]"
   ]
  },
  {
   "cell_type": "code",
   "execution_count": 186,
   "metadata": {
    "ExecuteTime": {
     "end_time": "2017-09-28T15:39:40.317090Z",
     "start_time": "2017-09-28T15:39:40.290967Z"
    }
   },
   "outputs": [
    {
     "data": {
      "text/plain": [
       "19238"
      ]
     },
     "execution_count": 186,
     "metadata": {},
     "output_type": "execute_result"
    }
   ],
   "source": [
    "len(pro_senes_preds)"
   ]
  },
  {
   "cell_type": "markdown",
   "metadata": {},
   "source": [
    "# Predict senescence candidates"
   ]
  },
  {
   "cell_type": "code",
   "execution_count": 196,
   "metadata": {
    "ExecuteTime": {
     "end_time": "2017-09-28T15:42:17.835721Z",
     "start_time": "2017-09-28T15:42:17.772663Z"
    }
   },
   "outputs": [],
   "source": [
    "senes_cands = get_candidates(senes_preds, labels, gene_ids)"
   ]
  },
  {
   "cell_type": "code",
   "execution_count": 199,
   "metadata": {
    "ExecuteTime": {
     "end_time": "2017-09-28T15:43:44.983111Z",
     "start_time": "2017-09-28T15:43:44.948443Z"
    }
   },
   "outputs": [
    {
     "data": {
      "text/html": [
       "<div>\n",
       "<style>\n",
       "    .dataframe thead tr:only-child th {\n",
       "        text-align: right;\n",
       "    }\n",
       "\n",
       "    .dataframe thead th {\n",
       "        text-align: left;\n",
       "    }\n",
       "\n",
       "    .dataframe tbody tr th {\n",
       "        vertical-align: top;\n",
       "    }\n",
       "</style>\n",
       "<table border=\"1\" class=\"dataframe\">\n",
       "  <thead>\n",
       "    <tr style=\"text-align: right;\">\n",
       "      <th></th>\n",
       "      <th>entrez_id</th>\n",
       "      <th>predicted_prob</th>\n",
       "      <th>percentile</th>\n",
       "    </tr>\n",
       "    <tr>\n",
       "      <th>symbol</th>\n",
       "      <th></th>\n",
       "      <th></th>\n",
       "      <th></th>\n",
       "    </tr>\n",
       "  </thead>\n",
       "  <tbody>\n",
       "    <tr>\n",
       "      <th>CTNNB1</th>\n",
       "      <td>1499</td>\n",
       "      <td>0.980624</td>\n",
       "      <td>0.000000</td>\n",
       "    </tr>\n",
       "    <tr>\n",
       "      <th>TGFB1</th>\n",
       "      <td>7040</td>\n",
       "      <td>0.979938</td>\n",
       "      <td>0.005274</td>\n",
       "    </tr>\n",
       "    <tr>\n",
       "      <th>RARA</th>\n",
       "      <td>5914</td>\n",
       "      <td>0.977637</td>\n",
       "      <td>0.010549</td>\n",
       "    </tr>\n",
       "    <tr>\n",
       "      <th>STK4</th>\n",
       "      <td>6789</td>\n",
       "      <td>0.970696</td>\n",
       "      <td>0.015823</td>\n",
       "    </tr>\n",
       "    <tr>\n",
       "      <th>STK11</th>\n",
       "      <td>6794</td>\n",
       "      <td>0.969354</td>\n",
       "      <td>0.021097</td>\n",
       "    </tr>\n",
       "    <tr>\n",
       "      <th>TFAP2A</th>\n",
       "      <td>7020</td>\n",
       "      <td>0.967554</td>\n",
       "      <td>0.026371</td>\n",
       "    </tr>\n",
       "    <tr>\n",
       "      <th>STAT3</th>\n",
       "      <td>6774</td>\n",
       "      <td>0.965576</td>\n",
       "      <td>0.031646</td>\n",
       "    </tr>\n",
       "    <tr>\n",
       "      <th>HIPK2</th>\n",
       "      <td>28996</td>\n",
       "      <td>0.963538</td>\n",
       "      <td>0.036920</td>\n",
       "    </tr>\n",
       "    <tr>\n",
       "      <th>GLI3</th>\n",
       "      <td>2737</td>\n",
       "      <td>0.962616</td>\n",
       "      <td>0.042194</td>\n",
       "    </tr>\n",
       "    <tr>\n",
       "      <th>MTOR</th>\n",
       "      <td>2475</td>\n",
       "      <td>0.961513</td>\n",
       "      <td>0.047468</td>\n",
       "    </tr>\n",
       "    <tr>\n",
       "      <th>LEF1</th>\n",
       "      <td>51176</td>\n",
       "      <td>0.961467</td>\n",
       "      <td>0.052743</td>\n",
       "    </tr>\n",
       "    <tr>\n",
       "      <th>GATA3</th>\n",
       "      <td>2625</td>\n",
       "      <td>0.960893</td>\n",
       "      <td>0.058017</td>\n",
       "    </tr>\n",
       "    <tr>\n",
       "      <th>SMAD4</th>\n",
       "      <td>4089</td>\n",
       "      <td>0.960108</td>\n",
       "      <td>0.063291</td>\n",
       "    </tr>\n",
       "    <tr>\n",
       "      <th>FRK</th>\n",
       "      <td>2444</td>\n",
       "      <td>0.958678</td>\n",
       "      <td>0.068565</td>\n",
       "    </tr>\n",
       "    <tr>\n",
       "      <th>PLK1</th>\n",
       "      <td>5347</td>\n",
       "      <td>0.958580</td>\n",
       "      <td>0.073840</td>\n",
       "    </tr>\n",
       "    <tr>\n",
       "      <th>RPS6KA2</th>\n",
       "      <td>6196</td>\n",
       "      <td>0.958035</td>\n",
       "      <td>0.079114</td>\n",
       "    </tr>\n",
       "    <tr>\n",
       "      <th>PRKAA1</th>\n",
       "      <td>5562</td>\n",
       "      <td>0.956399</td>\n",
       "      <td>0.084388</td>\n",
       "    </tr>\n",
       "    <tr>\n",
       "      <th>RELA</th>\n",
       "      <td>5970</td>\n",
       "      <td>0.956372</td>\n",
       "      <td>0.089662</td>\n",
       "    </tr>\n",
       "    <tr>\n",
       "      <th>SMAD2</th>\n",
       "      <td>4087</td>\n",
       "      <td>0.955418</td>\n",
       "      <td>0.094937</td>\n",
       "    </tr>\n",
       "    <tr>\n",
       "      <th>MAPK1</th>\n",
       "      <td>5594</td>\n",
       "      <td>0.952291</td>\n",
       "      <td>0.100211</td>\n",
       "    </tr>\n",
       "  </tbody>\n",
       "</table>\n",
       "</div>"
      ],
      "text/plain": [
       "         entrez_id  predicted_prob  percentile\n",
       "symbol                                        \n",
       "CTNNB1        1499        0.980624    0.000000\n",
       "TGFB1         7040        0.979938    0.005274\n",
       "RARA          5914        0.977637    0.010549\n",
       "STK4          6789        0.970696    0.015823\n",
       "STK11         6794        0.969354    0.021097\n",
       "TFAP2A        7020        0.967554    0.026371\n",
       "STAT3         6774        0.965576    0.031646\n",
       "HIPK2        28996        0.963538    0.036920\n",
       "GLI3          2737        0.962616    0.042194\n",
       "MTOR          2475        0.961513    0.047468\n",
       "LEF1         51176        0.961467    0.052743\n",
       "GATA3         2625        0.960893    0.058017\n",
       "SMAD4         4089        0.960108    0.063291\n",
       "FRK           2444        0.958678    0.068565\n",
       "PLK1          5347        0.958580    0.073840\n",
       "RPS6KA2       6196        0.958035    0.079114\n",
       "PRKAA1        5562        0.956399    0.084388\n",
       "RELA          5970        0.956372    0.089662\n",
       "SMAD2         4087        0.955418    0.094937\n",
       "MAPK1         5594        0.952291    0.100211"
      ]
     },
     "execution_count": 199,
     "metadata": {},
     "output_type": "execute_result"
    }
   ],
   "source": [
    "senes_cands"
   ]
  },
  {
   "cell_type": "code",
   "execution_count": 197,
   "metadata": {
    "ExecuteTime": {
     "end_time": "2017-09-28T15:42:25.234936Z",
     "start_time": "2017-09-28T15:42:25.153845Z"
    }
   },
   "outputs": [],
   "source": [
    "network_cands = get_candidates(preds, labels, gene_ids, gene_list=network_candidates)"
   ]
  },
  {
   "cell_type": "code",
   "execution_count": 200,
   "metadata": {
    "ExecuteTime": {
     "end_time": "2017-09-28T15:43:50.887497Z",
     "start_time": "2017-09-28T15:43:50.854063Z"
    }
   },
   "outputs": [
    {
     "data": {
      "text/html": [
       "<div>\n",
       "<style>\n",
       "    .dataframe thead tr:only-child th {\n",
       "        text-align: right;\n",
       "    }\n",
       "\n",
       "    .dataframe thead th {\n",
       "        text-align: left;\n",
       "    }\n",
       "\n",
       "    .dataframe tbody tr th {\n",
       "        vertical-align: top;\n",
       "    }\n",
       "</style>\n",
       "<table border=\"1\" class=\"dataframe\">\n",
       "  <thead>\n",
       "    <tr style=\"text-align: right;\">\n",
       "      <th></th>\n",
       "      <th>entrez_id</th>\n",
       "      <th>predicted_prob</th>\n",
       "      <th>percentile</th>\n",
       "    </tr>\n",
       "    <tr>\n",
       "      <th>symbol</th>\n",
       "      <th></th>\n",
       "      <th></th>\n",
       "      <th></th>\n",
       "    </tr>\n",
       "  </thead>\n",
       "  <tbody>\n",
       "    <tr>\n",
       "      <th>SMAD3</th>\n",
       "      <td>4088.0</td>\n",
       "      <td>0.927440</td>\n",
       "      <td>0.342827</td>\n",
       "    </tr>\n",
       "    <tr>\n",
       "      <th>EP300</th>\n",
       "      <td>2033.0</td>\n",
       "      <td>0.858555</td>\n",
       "      <td>1.255274</td>\n",
       "    </tr>\n",
       "    <tr>\n",
       "      <th>CREBBP</th>\n",
       "      <td>1387.0</td>\n",
       "      <td>0.885856</td>\n",
       "      <td>0.785865</td>\n",
       "    </tr>\n",
       "    <tr>\n",
       "      <th>MDM2</th>\n",
       "      <td>4193.0</td>\n",
       "      <td>0.869509</td>\n",
       "      <td>1.060127</td>\n",
       "    </tr>\n",
       "    <tr>\n",
       "      <th>HDAC2</th>\n",
       "      <td>3066.0</td>\n",
       "      <td>0.896405</td>\n",
       "      <td>0.654008</td>\n",
       "    </tr>\n",
       "    <tr>\n",
       "      <th>BTRC</th>\n",
       "      <td>8945.0</td>\n",
       "      <td>0.748581</td>\n",
       "      <td>4.071730</td>\n",
       "    </tr>\n",
       "    <tr>\n",
       "      <th>DNMT1</th>\n",
       "      <td>NaN</td>\n",
       "      <td>NaN</td>\n",
       "      <td>NaN</td>\n",
       "    </tr>\n",
       "    <tr>\n",
       "      <th>PIN1</th>\n",
       "      <td>5300.0</td>\n",
       "      <td>0.713580</td>\n",
       "      <td>5.559072</td>\n",
       "    </tr>\n",
       "    <tr>\n",
       "      <th>SKP2</th>\n",
       "      <td>6502.0</td>\n",
       "      <td>0.743932</td>\n",
       "      <td>4.266878</td>\n",
       "    </tr>\n",
       "    <tr>\n",
       "      <th>KDM4C</th>\n",
       "      <td>23081.0</td>\n",
       "      <td>0.529290</td>\n",
       "      <td>19.862869</td>\n",
       "    </tr>\n",
       "    <tr>\n",
       "      <th>PTPN6</th>\n",
       "      <td>5777.0</td>\n",
       "      <td>0.798243</td>\n",
       "      <td>2.484177</td>\n",
       "    </tr>\n",
       "    <tr>\n",
       "      <th>SASH3</th>\n",
       "      <td>54440.0</td>\n",
       "      <td>0.449110</td>\n",
       "      <td>31.661392</td>\n",
       "    </tr>\n",
       "    <tr>\n",
       "      <th>ARHGAP30</th>\n",
       "      <td>257106.0</td>\n",
       "      <td>0.289713</td>\n",
       "      <td>80.970464</td>\n",
       "    </tr>\n",
       "    <tr>\n",
       "      <th>SMC4</th>\n",
       "      <td>NaN</td>\n",
       "      <td>NaN</td>\n",
       "      <td>NaN</td>\n",
       "    </tr>\n",
       "  </tbody>\n",
       "</table>\n",
       "</div>"
      ],
      "text/plain": [
       "          entrez_id  predicted_prob  percentile\n",
       "symbol                                         \n",
       "SMAD3        4088.0        0.927440    0.342827\n",
       "EP300        2033.0        0.858555    1.255274\n",
       "CREBBP       1387.0        0.885856    0.785865\n",
       "MDM2         4193.0        0.869509    1.060127\n",
       "HDAC2        3066.0        0.896405    0.654008\n",
       "BTRC         8945.0        0.748581    4.071730\n",
       "DNMT1           NaN             NaN         NaN\n",
       "PIN1         5300.0        0.713580    5.559072\n",
       "SKP2         6502.0        0.743932    4.266878\n",
       "KDM4C       23081.0        0.529290   19.862869\n",
       "PTPN6        5777.0        0.798243    2.484177\n",
       "SASH3       54440.0        0.449110   31.661392\n",
       "ARHGAP30   257106.0        0.289713   80.970464\n",
       "SMC4            NaN             NaN         NaN"
      ]
     },
     "execution_count": 200,
     "metadata": {},
     "output_type": "execute_result"
    }
   ],
   "source": [
    "network_cands"
   ]
  },
  {
   "cell_type": "markdown",
   "metadata": {},
   "source": [
    "## candidate pro vs. anti senescence predictions"
   ]
  },
  {
   "cell_type": "code",
   "execution_count": 198,
   "metadata": {
    "ExecuteTime": {
     "end_time": "2017-09-28T15:42:52.038540Z",
     "start_time": "2017-09-28T15:42:51.950510Z"
    }
   },
   "outputs": [
    {
     "data": {
      "text/html": [
       "<div>\n",
       "<style>\n",
       "    .dataframe thead tr:only-child th {\n",
       "        text-align: right;\n",
       "    }\n",
       "\n",
       "    .dataframe thead th {\n",
       "        text-align: left;\n",
       "    }\n",
       "\n",
       "    .dataframe tbody tr th {\n",
       "        vertical-align: top;\n",
       "    }\n",
       "</style>\n",
       "<table border=\"1\" class=\"dataframe\">\n",
       "  <thead>\n",
       "    <tr style=\"text-align: right;\">\n",
       "      <th></th>\n",
       "      <th>entrez_id</th>\n",
       "      <th>predicted_prob</th>\n",
       "      <th>percentile</th>\n",
       "    </tr>\n",
       "    <tr>\n",
       "      <th>symbol</th>\n",
       "      <th></th>\n",
       "      <th></th>\n",
       "      <th></th>\n",
       "    </tr>\n",
       "  </thead>\n",
       "  <tbody>\n",
       "    <tr>\n",
       "      <th>CTNNB1</th>\n",
       "      <td>1499</td>\n",
       "      <td>0.487738</td>\n",
       "      <td>68.380802</td>\n",
       "    </tr>\n",
       "    <tr>\n",
       "      <th>TGFB1</th>\n",
       "      <td>7040</td>\n",
       "      <td>0.625801</td>\n",
       "      <td>21.793249</td>\n",
       "    </tr>\n",
       "    <tr>\n",
       "      <th>RARA</th>\n",
       "      <td>5914</td>\n",
       "      <td>0.649523</td>\n",
       "      <td>17.716245</td>\n",
       "    </tr>\n",
       "    <tr>\n",
       "      <th>STK4</th>\n",
       "      <td>6789</td>\n",
       "      <td>0.801575</td>\n",
       "      <td>2.895570</td>\n",
       "    </tr>\n",
       "    <tr>\n",
       "      <th>STK11</th>\n",
       "      <td>6794</td>\n",
       "      <td>0.675105</td>\n",
       "      <td>13.101266</td>\n",
       "    </tr>\n",
       "    <tr>\n",
       "      <th>TFAP2A</th>\n",
       "      <td>7020</td>\n",
       "      <td>0.125492</td>\n",
       "      <td>99.377637</td>\n",
       "    </tr>\n",
       "    <tr>\n",
       "      <th>STAT3</th>\n",
       "      <td>6774</td>\n",
       "      <td>0.870377</td>\n",
       "      <td>0.469409</td>\n",
       "    </tr>\n",
       "    <tr>\n",
       "      <th>HIPK2</th>\n",
       "      <td>28996</td>\n",
       "      <td>0.723079</td>\n",
       "      <td>8.243671</td>\n",
       "    </tr>\n",
       "    <tr>\n",
       "      <th>GLI3</th>\n",
       "      <td>2737</td>\n",
       "      <td>0.432080</td>\n",
       "      <td>78.486287</td>\n",
       "    </tr>\n",
       "    <tr>\n",
       "      <th>MTOR</th>\n",
       "      <td>2475</td>\n",
       "      <td>0.590102</td>\n",
       "      <td>32.194093</td>\n",
       "    </tr>\n",
       "    <tr>\n",
       "      <th>LEF1</th>\n",
       "      <td>51176</td>\n",
       "      <td>0.277527</td>\n",
       "      <td>93.771097</td>\n",
       "    </tr>\n",
       "    <tr>\n",
       "      <th>GATA3</th>\n",
       "      <td>2625</td>\n",
       "      <td>0.683860</td>\n",
       "      <td>11.766878</td>\n",
       "    </tr>\n",
       "    <tr>\n",
       "      <th>SMAD4</th>\n",
       "      <td>4089</td>\n",
       "      <td>0.448838</td>\n",
       "      <td>76.160338</td>\n",
       "    </tr>\n",
       "    <tr>\n",
       "      <th>FRK</th>\n",
       "      <td>2444</td>\n",
       "      <td>0.754538</td>\n",
       "      <td>5.822785</td>\n",
       "    </tr>\n",
       "    <tr>\n",
       "      <th>PLK1</th>\n",
       "      <td>5347</td>\n",
       "      <td>0.187185</td>\n",
       "      <td>98.085443</td>\n",
       "    </tr>\n",
       "    <tr>\n",
       "      <th>RPS6KA2</th>\n",
       "      <td>6196</td>\n",
       "      <td>0.817538</td>\n",
       "      <td>2.109705</td>\n",
       "    </tr>\n",
       "    <tr>\n",
       "      <th>PRKAA1</th>\n",
       "      <td>5562</td>\n",
       "      <td>0.780996</td>\n",
       "      <td>4.483122</td>\n",
       "    </tr>\n",
       "    <tr>\n",
       "      <th>RELA</th>\n",
       "      <td>5970</td>\n",
       "      <td>0.318142</td>\n",
       "      <td>90.411392</td>\n",
       "    </tr>\n",
       "    <tr>\n",
       "      <th>SMAD2</th>\n",
       "      <td>4087</td>\n",
       "      <td>0.518614</td>\n",
       "      <td>58.691983</td>\n",
       "    </tr>\n",
       "    <tr>\n",
       "      <th>MAPK1</th>\n",
       "      <td>5594</td>\n",
       "      <td>0.813820</td>\n",
       "      <td>2.225738</td>\n",
       "    </tr>\n",
       "  </tbody>\n",
       "</table>\n",
       "</div>"
      ],
      "text/plain": [
       "         entrez_id  predicted_prob  percentile\n",
       "symbol                                        \n",
       "CTNNB1        1499        0.487738   68.380802\n",
       "TGFB1         7040        0.625801   21.793249\n",
       "RARA          5914        0.649523   17.716245\n",
       "STK4          6789        0.801575    2.895570\n",
       "STK11         6794        0.675105   13.101266\n",
       "TFAP2A        7020        0.125492   99.377637\n",
       "STAT3         6774        0.870377    0.469409\n",
       "HIPK2        28996        0.723079    8.243671\n",
       "GLI3          2737        0.432080   78.486287\n",
       "MTOR          2475        0.590102   32.194093\n",
       "LEF1         51176        0.277527   93.771097\n",
       "GATA3         2625        0.683860   11.766878\n",
       "SMAD4         4089        0.448838   76.160338\n",
       "FRK           2444        0.754538    5.822785\n",
       "PLK1          5347        0.187185   98.085443\n",
       "RPS6KA2       6196        0.817538    2.109705\n",
       "PRKAA1        5562        0.780996    4.483122\n",
       "RELA          5970        0.318142   90.411392\n",
       "SMAD2         4087        0.518614   58.691983\n",
       "MAPK1         5594        0.813820    2.225738"
      ]
     },
     "execution_count": 198,
     "metadata": {},
     "output_type": "execute_result"
    }
   ],
   "source": [
    "get_candidates(pro_senes_preds, labels, gene_ids, gene_list=senes_cands.index)"
   ]
  },
  {
   "cell_type": "code",
   "execution_count": 201,
   "metadata": {
    "ExecuteTime": {
     "end_time": "2017-09-28T15:44:39.482217Z",
     "start_time": "2017-09-28T15:44:39.399688Z"
    }
   },
   "outputs": [
    {
     "data": {
      "text/html": [
       "<div>\n",
       "<style>\n",
       "    .dataframe thead tr:only-child th {\n",
       "        text-align: right;\n",
       "    }\n",
       "\n",
       "    .dataframe thead th {\n",
       "        text-align: left;\n",
       "    }\n",
       "\n",
       "    .dataframe tbody tr th {\n",
       "        vertical-align: top;\n",
       "    }\n",
       "</style>\n",
       "<table border=\"1\" class=\"dataframe\">\n",
       "  <thead>\n",
       "    <tr style=\"text-align: right;\">\n",
       "      <th></th>\n",
       "      <th>entrez_id</th>\n",
       "      <th>predicted_prob</th>\n",
       "      <th>percentile</th>\n",
       "    </tr>\n",
       "    <tr>\n",
       "      <th>symbol</th>\n",
       "      <th></th>\n",
       "      <th></th>\n",
       "      <th></th>\n",
       "    </tr>\n",
       "  </thead>\n",
       "  <tbody>\n",
       "    <tr>\n",
       "      <th>SMAD3</th>\n",
       "      <td>4088.0</td>\n",
       "      <td>0.537962</td>\n",
       "      <td>52.837553</td>\n",
       "    </tr>\n",
       "    <tr>\n",
       "      <th>EP300</th>\n",
       "      <td>2033.0</td>\n",
       "      <td>0.322959</td>\n",
       "      <td>90.052743</td>\n",
       "    </tr>\n",
       "    <tr>\n",
       "      <th>CREBBP</th>\n",
       "      <td>1387.0</td>\n",
       "      <td>0.639069</td>\n",
       "      <td>19.477848</td>\n",
       "    </tr>\n",
       "    <tr>\n",
       "      <th>MDM2</th>\n",
       "      <td>4193.0</td>\n",
       "      <td>0.168215</td>\n",
       "      <td>98.454641</td>\n",
       "    </tr>\n",
       "    <tr>\n",
       "      <th>HDAC2</th>\n",
       "      <td>3066.0</td>\n",
       "      <td>0.458390</td>\n",
       "      <td>73.982068</td>\n",
       "    </tr>\n",
       "    <tr>\n",
       "      <th>BTRC</th>\n",
       "      <td>8945.0</td>\n",
       "      <td>0.257423</td>\n",
       "      <td>94.978903</td>\n",
       "    </tr>\n",
       "    <tr>\n",
       "      <th>DNMT1</th>\n",
       "      <td>NaN</td>\n",
       "      <td>NaN</td>\n",
       "      <td>NaN</td>\n",
       "    </tr>\n",
       "    <tr>\n",
       "      <th>PIN1</th>\n",
       "      <td>5300.0</td>\n",
       "      <td>0.355147</td>\n",
       "      <td>87.315401</td>\n",
       "    </tr>\n",
       "    <tr>\n",
       "      <th>SKP2</th>\n",
       "      <td>6502.0</td>\n",
       "      <td>0.220372</td>\n",
       "      <td>97.009494</td>\n",
       "    </tr>\n",
       "    <tr>\n",
       "      <th>KDM4C</th>\n",
       "      <td>23081.0</td>\n",
       "      <td>0.199999</td>\n",
       "      <td>97.763713</td>\n",
       "    </tr>\n",
       "    <tr>\n",
       "      <th>PTPN6</th>\n",
       "      <td>5777.0</td>\n",
       "      <td>0.606137</td>\n",
       "      <td>29.235232</td>\n",
       "    </tr>\n",
       "    <tr>\n",
       "      <th>SASH3</th>\n",
       "      <td>54440.0</td>\n",
       "      <td>0.672375</td>\n",
       "      <td>13.422996</td>\n",
       "    </tr>\n",
       "    <tr>\n",
       "      <th>ARHGAP30</th>\n",
       "      <td>257106.0</td>\n",
       "      <td>0.577283</td>\n",
       "      <td>38.707806</td>\n",
       "    </tr>\n",
       "    <tr>\n",
       "      <th>SMC4</th>\n",
       "      <td>NaN</td>\n",
       "      <td>NaN</td>\n",
       "      <td>NaN</td>\n",
       "    </tr>\n",
       "  </tbody>\n",
       "</table>\n",
       "</div>"
      ],
      "text/plain": [
       "          entrez_id  predicted_prob  percentile\n",
       "symbol                                         \n",
       "SMAD3        4088.0        0.537962   52.837553\n",
       "EP300        2033.0        0.322959   90.052743\n",
       "CREBBP       1387.0        0.639069   19.477848\n",
       "MDM2         4193.0        0.168215   98.454641\n",
       "HDAC2        3066.0        0.458390   73.982068\n",
       "BTRC         8945.0        0.257423   94.978903\n",
       "DNMT1           NaN             NaN         NaN\n",
       "PIN1         5300.0        0.355147   87.315401\n",
       "SKP2         6502.0        0.220372   97.009494\n",
       "KDM4C       23081.0        0.199999   97.763713\n",
       "PTPN6        5777.0        0.606137   29.235232\n",
       "SASH3       54440.0        0.672375   13.422996\n",
       "ARHGAP30   257106.0        0.577283   38.707806\n",
       "SMC4            NaN             NaN         NaN"
      ]
     },
     "execution_count": 201,
     "metadata": {},
     "output_type": "execute_result"
    }
   ],
   "source": [
    "get_candidates(pro_senes_preds, labels, gene_ids, gene_list=network_candidates)"
   ]
  },
  {
   "cell_type": "code",
   "execution_count": null,
   "metadata": {},
   "outputs": [],
   "source": []
  }
 ],
 "metadata": {
  "hide_input": false,
  "kernelspec": {
   "display_name": "Python 3",
   "language": "python",
   "name": "python3"
  },
  "language_info": {
   "codemirror_mode": {
    "name": "ipython",
    "version": 3
   },
   "file_extension": ".py",
   "mimetype": "text/x-python",
   "name": "python",
   "nbconvert_exporter": "python",
   "pygments_lexer": "ipython3",
   "version": "3.6.2"
  },
  "toc": {
   "nav_menu": {},
   "number_sections": true,
   "sideBar": true,
   "skip_h1_title": false,
   "toc_cell": false,
   "toc_position": {},
   "toc_section_display": "block",
   "toc_window_display": false
  }
 },
 "nbformat": 4,
 "nbformat_minor": 2
}
